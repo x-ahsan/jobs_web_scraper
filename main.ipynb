{
  "nbformat": 4,
  "nbformat_minor": 0,
  "metadata": {
    "kernelspec": {
      "display_name": "Python 3",
      "language": "python",
      "name": "python3"
    },
    "language_info": {
      "codemirror_mode": {
        "name": "ipython",
        "version": 3
      },
      "file_extension": ".py",
      "mimetype": "text/x-python",
      "name": "python",
      "nbconvert_exporter": "python",
      "pygments_lexer": "ipython3",
      "version": "3.7.6"
    },
    "colab": {
      "provenance": []
    }
  },
  "cells": [
    {
      "cell_type": "markdown",
      "metadata": {
        "id": "ITJ9qhLi5rav"
      },
      "source": [
        "[Realted course](https://datamentor.ai)\n",
        "\n",
        "<br>"
      ]
    },
    {
      "cell_type": "markdown",
      "metadata": {
        "id": "cx1QNGt1hDxC"
      },
      "source": [
        "<br>\n",
        "\n",
        "<br>\n",
        "\n",
        "\n",
        "##**Problem Statement**"
      ]
    },
    {
      "cell_type": "markdown",
      "metadata": {
        "id": "QqmrF0ivhnpW"
      },
      "source": [
        "Scrape all job postings by area from the links given in the file ‘link_by_areas.csv’. For every link, loop through all the job postings by page, collecting all the information for a given posting.\n",
        "\n",
        "Create an output CSV file with job title, company, experience, salary, location, description, tags associated, function area, posting date, scraping date."
      ]
    },
    {
      "cell_type": "markdown",
      "metadata": {
        "id": "nmfNG5bThr7j"
      },
      "source": [
        "#**Solution**"
      ]
    },
    {
      "cell_type": "markdown",
      "metadata": {
        "id": "w33X_ws-hwcQ"
      },
      "source": [
        "The task at hand is to build a Python Auto Scraper tool that will scrape data from Naukri job site and save the output as a CSV file which can be used for further analysis.\n",
        "\n",
        "\n",
        "In order to accomplish this task. I will be using ***Python*** to scrape the required data from the job search site-***Naukri***."
      ]
    },
    {
      "cell_type": "markdown",
      "metadata": {
        "id": "8oVW1CDshwOr"
      },
      "source": [
        "To begin with, the necessary libraries needs to be imported.\n",
        "\n",
        "**WebDriver**: drives a browser natively, as a user would, either locally or on a remote machine using the Selenium server, marks a leap forward in terms of browser automation.\n",
        "\n",
        "**Selenium WebDriver**: refers to both the language bindings and the implementations of the individual browser controlling code. This is commonly referred to as just WebDriver.\n",
        "\n",
        "**Beautiful Soup**: is a Python library for pulling data out of HTML and XML files. It works with your favorite parser to provide idiomatic ways of navigating, searching, and modifying the parse tree.\n",
        "\n",
        "**Pandas**: is a fast, powerful, flexible and easy to use open source data analysis and manipulation tool, built on top of the Python programming language. Used for dataframe manupulations."
      ]
    },
    {
      "cell_type": "code",
      "metadata": {
        "id": "E-7wzbY6hCIs"
      },
      "source": [
        "#importing the libraries\n",
        "\n",
        "from selenium import webdriver\n",
        "import chromedriver_binary\n",
        "from bs4 import BeautifulSoup\n",
        "import time\n",
        "import pandas as pd"
      ],
      "execution_count": null,
      "outputs": []
    },
    {
      "cell_type": "code",
      "metadata": {
        "id": "nQZ0Ar6ChCIv",
        "outputId": "7112f2d2-0e4a-4500-b848-d075adad2377"
      },
      "source": [
        "#loading the link_by_areas.csv file\n",
        "\n",
        "joblinks = pd.read_csv('link_by_areas.csv')\n",
        "joblinks"
      ],
      "execution_count": null,
      "outputs": [
        {
          "output_type": "execute_result",
          "data": {
            "text/html": [
              "<div>\n",
              "<style scoped>\n",
              "    .dataframe tbody tr th:only-of-type {\n",
              "        vertical-align: middle;\n",
              "    }\n",
              "\n",
              "    .dataframe tbody tr th {\n",
              "        vertical-align: top;\n",
              "    }\n",
              "\n",
              "    .dataframe thead th {\n",
              "        text-align: right;\n",
              "    }\n",
              "</style>\n",
              "<table border=\"1\" class=\"dataframe\">\n",
              "  <thead>\n",
              "    <tr style=\"text-align: right;\">\n",
              "      <th></th>\n",
              "      <th>type</th>\n",
              "      <th>link</th>\n",
              "    </tr>\n",
              "  </thead>\n",
              "  <tbody>\n",
              "    <tr>\n",
              "      <th>0</th>\n",
              "      <td>Accounting Jobs</td>\n",
              "      <td>https://www.naukri.com/accounting-jobs?xt=cats...</td>\n",
              "    </tr>\n",
              "    <tr>\n",
              "      <th>1</th>\n",
              "      <td>Interior Design Jobs</td>\n",
              "      <td>https://www.naukri.com/interior-design-jobs?xt...</td>\n",
              "    </tr>\n",
              "    <tr>\n",
              "      <th>2</th>\n",
              "      <td>Bank Jobs</td>\n",
              "      <td>https://www.naukri.com/bank-jobs?xt=catsrch&amp;qf...</td>\n",
              "    </tr>\n",
              "    <tr>\n",
              "      <th>3</th>\n",
              "      <td>Content Writing Jobs</td>\n",
              "      <td>https://www.naukri.com/content-writing-jobs?xt...</td>\n",
              "    </tr>\n",
              "    <tr>\n",
              "      <th>4</th>\n",
              "      <td>Consultant Jobs</td>\n",
              "      <td>https://www.naukri.com/consultant-jobs?xt=cats...</td>\n",
              "    </tr>\n",
              "    <tr>\n",
              "      <th>5</th>\n",
              "      <td>Engineering Jobs</td>\n",
              "      <td>https://www.naukri.com/engineering-jobs?xt=cat...</td>\n",
              "    </tr>\n",
              "    <tr>\n",
              "      <th>6</th>\n",
              "      <td>Export Import Jobs</td>\n",
              "      <td>https://www.naukri.com/export-import-jobs?xt=c...</td>\n",
              "    </tr>\n",
              "    <tr>\n",
              "      <th>7</th>\n",
              "      <td>Merchandiser Jobs</td>\n",
              "      <td>https://www.naukri.com/merchandiser-jobs?xt=ca...</td>\n",
              "    </tr>\n",
              "    <tr>\n",
              "      <th>8</th>\n",
              "      <td>Security Jobs</td>\n",
              "      <td>https://www.naukri.com/security-jobs?xt=catsrc...</td>\n",
              "    </tr>\n",
              "    <tr>\n",
              "      <th>9</th>\n",
              "      <td>HR Jobs</td>\n",
              "      <td>https://www.naukri.com/hr-jobs?xt=catsrch&amp;qf[]=12</td>\n",
              "    </tr>\n",
              "    <tr>\n",
              "      <th>10</th>\n",
              "      <td>Hotel Jobs</td>\n",
              "      <td>https://www.naukri.com/hotel-jobs?xt=catsrch&amp;q...</td>\n",
              "    </tr>\n",
              "    <tr>\n",
              "      <th>11</th>\n",
              "      <td>Application Programming Jobs</td>\n",
              "      <td>https://www.naukri.com/application-programming...</td>\n",
              "    </tr>\n",
              "    <tr>\n",
              "      <th>12</th>\n",
              "      <td>Client Server Jobs</td>\n",
              "      <td>https://www.naukri.com/client-server-jobs?xt=c...</td>\n",
              "    </tr>\n",
              "    <tr>\n",
              "      <th>13</th>\n",
              "      <td>DBA Jobs</td>\n",
              "      <td>https://www.naukri.com/dba-jobs?xt=catsrch&amp;qf[...</td>\n",
              "    </tr>\n",
              "    <tr>\n",
              "      <th>14</th>\n",
              "      <td>Ecommerce Jobs</td>\n",
              "      <td>https://www.naukri.com/ecommerce-jobs?xt=catsr...</td>\n",
              "    </tr>\n",
              "    <tr>\n",
              "      <th>15</th>\n",
              "      <td>ERP Jobs</td>\n",
              "      <td>https://www.naukri.com/erp-jobs?xt=catsrch&amp;qf[...</td>\n",
              "    </tr>\n",
              "    <tr>\n",
              "      <th>16</th>\n",
              "      <td>VLSI Jobs</td>\n",
              "      <td>https://www.naukri.com/vlsi-jobs?xt=catsrch&amp;qf...</td>\n",
              "    </tr>\n",
              "    <tr>\n",
              "      <th>17</th>\n",
              "      <td>Mainframe Jobs</td>\n",
              "      <td>https://www.naukri.com/mainframe-jobs?xt=catsr...</td>\n",
              "    </tr>\n",
              "    <tr>\n",
              "      <th>18</th>\n",
              "      <td>Middleware Jobs</td>\n",
              "      <td>https://www.naukri.com/middleware-jobs?xt=cats...</td>\n",
              "    </tr>\n",
              "    <tr>\n",
              "      <th>19</th>\n",
              "      <td>Mobile Jobs</td>\n",
              "      <td>https://www.naukri.com/mobile-jobs?xt=catsrch&amp;...</td>\n",
              "    </tr>\n",
              "    <tr>\n",
              "      <th>20</th>\n",
              "      <td>Network administrator Jobs</td>\n",
              "      <td>https://www.naukri.com/network-administrator-j...</td>\n",
              "    </tr>\n",
              "    <tr>\n",
              "      <th>21</th>\n",
              "      <td>IT Jobs</td>\n",
              "      <td>https://www.naukri.com/information-technology-...</td>\n",
              "    </tr>\n",
              "    <tr>\n",
              "      <th>22</th>\n",
              "      <td>Testing Jobs</td>\n",
              "      <td>https://www.naukri.com/testing-jobs?xt=catsrch...</td>\n",
              "    </tr>\n",
              "    <tr>\n",
              "      <th>23</th>\n",
              "      <td>System Programming Jobs</td>\n",
              "      <td>https://www.naukri.com/system-programming-jobs...</td>\n",
              "    </tr>\n",
              "    <tr>\n",
              "      <th>24</th>\n",
              "      <td>EDP Jobs</td>\n",
              "      <td>https://www.naukri.com/edp-jobs?xt=catsrch&amp;qf[...</td>\n",
              "    </tr>\n",
              "    <tr>\n",
              "      <th>25</th>\n",
              "      <td>Telecom Software Jobs</td>\n",
              "      <td>https://www.naukri.com/telecom-software-jobs?x...</td>\n",
              "    </tr>\n",
              "    <tr>\n",
              "      <th>26</th>\n",
              "      <td>Telecom Jobs</td>\n",
              "      <td>https://www.naukri.com/telecom-jobs?xt=catsrch...</td>\n",
              "    </tr>\n",
              "    <tr>\n",
              "      <th>27</th>\n",
              "      <td>BPO Jobs</td>\n",
              "      <td>https://www.naukri.com/bpo-jobs?xt=catsrch&amp;qf[]=8</td>\n",
              "    </tr>\n",
              "    <tr>\n",
              "      <th>28</th>\n",
              "      <td>Legal Jobs</td>\n",
              "      <td>https://www.naukri.com/legal-jobs?xt=catsrch&amp;q...</td>\n",
              "    </tr>\n",
              "    <tr>\n",
              "      <th>29</th>\n",
              "      <td>Marketing Jobs</td>\n",
              "      <td>https://www.naukri.com/marketing-jobs?xt=catsr...</td>\n",
              "    </tr>\n",
              "    <tr>\n",
              "      <th>30</th>\n",
              "      <td>Packaging Jobs</td>\n",
              "      <td>https://www.naukri.com/packaging-jobs?xt=catsr...</td>\n",
              "    </tr>\n",
              "    <tr>\n",
              "      <th>31</th>\n",
              "      <td>Pharma Jobs</td>\n",
              "      <td>https://www.naukri.com/pharma-jobs?xt=catsrch&amp;...</td>\n",
              "    </tr>\n",
              "    <tr>\n",
              "      <th>32</th>\n",
              "      <td>Maintenance Jobs</td>\n",
              "      <td>https://www.naukri.com/maintenance-jobs?xt=cat...</td>\n",
              "    </tr>\n",
              "    <tr>\n",
              "      <th>33</th>\n",
              "      <td>Logistics Jobs</td>\n",
              "      <td>https://www.naukri.com/logistics-jobs?xt=catsr...</td>\n",
              "    </tr>\n",
              "    <tr>\n",
              "      <th>34</th>\n",
              "      <td>Sales Jobs</td>\n",
              "      <td>https://www.naukri.com/sales-jobs?xt=catsrch&amp;q...</td>\n",
              "    </tr>\n",
              "    <tr>\n",
              "      <th>35</th>\n",
              "      <td>Secretary Jobs</td>\n",
              "      <td>https://www.naukri.com/secretary-jobs?xt=catsr...</td>\n",
              "    </tr>\n",
              "    <tr>\n",
              "      <th>36</th>\n",
              "      <td>Corporate Planning Jobs</td>\n",
              "      <td>https://www.naukri.com/corporate-planning-jobs...</td>\n",
              "    </tr>\n",
              "    <tr>\n",
              "      <th>37</th>\n",
              "      <td>Site Engineering Jobs</td>\n",
              "      <td>https://www.naukri.com/site-engineering-jobs?x...</td>\n",
              "    </tr>\n",
              "    <tr>\n",
              "      <th>38</th>\n",
              "      <td>Film Jobs</td>\n",
              "      <td>https://www.naukri.com/film-jobs?xt=catsrch&amp;qf...</td>\n",
              "    </tr>\n",
              "    <tr>\n",
              "      <th>39</th>\n",
              "      <td>Teacher Jobs</td>\n",
              "      <td>https://www.naukri.com/teaching-jobs?xt=catsrc...</td>\n",
              "    </tr>\n",
              "    <tr>\n",
              "      <th>40</th>\n",
              "      <td>Airline Jobs</td>\n",
              "      <td>https://www.naukri.com/airline-jobs?xt=catsrch...</td>\n",
              "    </tr>\n",
              "    <tr>\n",
              "      <th>41</th>\n",
              "      <td>Graphic Designer Jobs</td>\n",
              "      <td>https://www.naukri.com/graphic-designer-jobs?x...</td>\n",
              "    </tr>\n",
              "    <tr>\n",
              "      <th>42</th>\n",
              "      <td>Shipping Jobs</td>\n",
              "      <td>https://www.naukri.com/shipping-jobs?xt=catsrc...</td>\n",
              "    </tr>\n",
              "    <tr>\n",
              "      <th>43</th>\n",
              "      <td>Analytics Jobs</td>\n",
              "      <td>https://www.naukri.com/analytics-jobs?xt=catsr...</td>\n",
              "    </tr>\n",
              "    <tr>\n",
              "      <th>44</th>\n",
              "      <td>Business Intelligence Jobs</td>\n",
              "      <td>https://www.naukri.com/business-intelligence-j...</td>\n",
              "    </tr>\n",
              "  </tbody>\n",
              "</table>\n",
              "</div>"
            ],
            "text/plain": [
              "                            type  \\\n",
              "0                Accounting Jobs   \n",
              "1           Interior Design Jobs   \n",
              "2                      Bank Jobs   \n",
              "3           Content Writing Jobs   \n",
              "4                Consultant Jobs   \n",
              "5               Engineering Jobs   \n",
              "6             Export Import Jobs   \n",
              "7              Merchandiser Jobs   \n",
              "8                  Security Jobs   \n",
              "9                        HR Jobs   \n",
              "10                    Hotel Jobs   \n",
              "11  Application Programming Jobs   \n",
              "12            Client Server Jobs   \n",
              "13                      DBA Jobs   \n",
              "14                Ecommerce Jobs   \n",
              "15                      ERP Jobs   \n",
              "16                     VLSI Jobs   \n",
              "17                Mainframe Jobs   \n",
              "18               Middleware Jobs   \n",
              "19                   Mobile Jobs   \n",
              "20    Network administrator Jobs   \n",
              "21                       IT Jobs   \n",
              "22                  Testing Jobs   \n",
              "23       System Programming Jobs   \n",
              "24                      EDP Jobs   \n",
              "25         Telecom Software Jobs   \n",
              "26                  Telecom Jobs   \n",
              "27                      BPO Jobs   \n",
              "28                    Legal Jobs   \n",
              "29                Marketing Jobs   \n",
              "30                Packaging Jobs   \n",
              "31                   Pharma Jobs   \n",
              "32              Maintenance Jobs   \n",
              "33                Logistics Jobs   \n",
              "34                    Sales Jobs   \n",
              "35                Secretary Jobs   \n",
              "36       Corporate Planning Jobs   \n",
              "37         Site Engineering Jobs   \n",
              "38                     Film Jobs   \n",
              "39                  Teacher Jobs   \n",
              "40                  Airline Jobs   \n",
              "41         Graphic Designer Jobs   \n",
              "42                 Shipping Jobs   \n",
              "43                Analytics Jobs   \n",
              "44    Business Intelligence Jobs   \n",
              "\n",
              "                                                 link  \n",
              "0   https://www.naukri.com/accounting-jobs?xt=cats...  \n",
              "1   https://www.naukri.com/interior-design-jobs?xt...  \n",
              "2   https://www.naukri.com/bank-jobs?xt=catsrch&qf...  \n",
              "3   https://www.naukri.com/content-writing-jobs?xt...  \n",
              "4   https://www.naukri.com/consultant-jobs?xt=cats...  \n",
              "5   https://www.naukri.com/engineering-jobs?xt=cat...  \n",
              "6   https://www.naukri.com/export-import-jobs?xt=c...  \n",
              "7   https://www.naukri.com/merchandiser-jobs?xt=ca...  \n",
              "8   https://www.naukri.com/security-jobs?xt=catsrc...  \n",
              "9   https://www.naukri.com/hr-jobs?xt=catsrch&qf[]=12  \n",
              "10  https://www.naukri.com/hotel-jobs?xt=catsrch&q...  \n",
              "11  https://www.naukri.com/application-programming...  \n",
              "12  https://www.naukri.com/client-server-jobs?xt=c...  \n",
              "13  https://www.naukri.com/dba-jobs?xt=catsrch&qf[...  \n",
              "14  https://www.naukri.com/ecommerce-jobs?xt=catsr...  \n",
              "15  https://www.naukri.com/erp-jobs?xt=catsrch&qf[...  \n",
              "16  https://www.naukri.com/vlsi-jobs?xt=catsrch&qf...  \n",
              "17  https://www.naukri.com/mainframe-jobs?xt=catsr...  \n",
              "18  https://www.naukri.com/middleware-jobs?xt=cats...  \n",
              "19  https://www.naukri.com/mobile-jobs?xt=catsrch&...  \n",
              "20  https://www.naukri.com/network-administrator-j...  \n",
              "21  https://www.naukri.com/information-technology-...  \n",
              "22  https://www.naukri.com/testing-jobs?xt=catsrch...  \n",
              "23  https://www.naukri.com/system-programming-jobs...  \n",
              "24  https://www.naukri.com/edp-jobs?xt=catsrch&qf[...  \n",
              "25  https://www.naukri.com/telecom-software-jobs?x...  \n",
              "26  https://www.naukri.com/telecom-jobs?xt=catsrch...  \n",
              "27  https://www.naukri.com/bpo-jobs?xt=catsrch&qf[]=8  \n",
              "28  https://www.naukri.com/legal-jobs?xt=catsrch&q...  \n",
              "29  https://www.naukri.com/marketing-jobs?xt=catsr...  \n",
              "30  https://www.naukri.com/packaging-jobs?xt=catsr...  \n",
              "31  https://www.naukri.com/pharma-jobs?xt=catsrch&...  \n",
              "32  https://www.naukri.com/maintenance-jobs?xt=cat...  \n",
              "33  https://www.naukri.com/logistics-jobs?xt=catsr...  \n",
              "34  https://www.naukri.com/sales-jobs?xt=catsrch&q...  \n",
              "35  https://www.naukri.com/secretary-jobs?xt=catsr...  \n",
              "36  https://www.naukri.com/corporate-planning-jobs...  \n",
              "37  https://www.naukri.com/site-engineering-jobs?x...  \n",
              "38  https://www.naukri.com/film-jobs?xt=catsrch&qf...  \n",
              "39  https://www.naukri.com/teaching-jobs?xt=catsrc...  \n",
              "40  https://www.naukri.com/airline-jobs?xt=catsrch...  \n",
              "41  https://www.naukri.com/graphic-designer-jobs?x...  \n",
              "42  https://www.naukri.com/shipping-jobs?xt=catsrc...  \n",
              "43  https://www.naukri.com/analytics-jobs?xt=catsr...  \n",
              "44  https://www.naukri.com/business-intelligence-j...  "
            ]
          },
          "metadata": {
            "tags": []
          },
          "execution_count": 2
        }
      ]
    },
    {
      "cell_type": "markdown",
      "metadata": {
        "id": "ZL_0e_tEiHUk"
      },
      "source": [
        "#The **URL STRUCTURE**\n",
        "\n",
        "In order to scrape data from one page to the other, the urls need to be created in such a way that it will automatically adjust to move move from one page to the other.\n",
        "\n",
        "When we look closely at the **urls**, we can see that all theurls have the domain **https://www.naukri.com/** followed by the job type, then the **page number** and a question mark as shown below. We will need to find a way to make the page number generic in order to be able to navigate through different pages automatically."
      ]
    },
    {
      "cell_type": "markdown",
      "metadata": {
        "id": "Uh2muyWaiM1c"
      },
      "source": [
        "![image.png](data:image/png;base64,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)"
      ]
    },
    {
      "cell_type": "markdown",
      "metadata": {
        "id": "kzWBpa45iR-a"
      },
      "source": [
        "<br>\n",
        "\n",
        "Lert's first convert our **urls** to a list"
      ]
    },
    {
      "cell_type": "code",
      "metadata": {
        "id": "U3i_WjxQhCIx"
      },
      "source": [
        "urls = joblinks['link'].tolist()"
      ],
      "execution_count": null,
      "outputs": []
    },
    {
      "cell_type": "code",
      "metadata": {
        "id": "s9iJEa_qhCIy",
        "outputId": "6e7d94b8-ebde-471b-93fc-8bb6cda48c75"
      },
      "source": [
        "urls"
      ],
      "execution_count": null,
      "outputs": [
        {
          "output_type": "execute_result",
          "data": {
            "text/plain": [
              "['https://www.naukri.com/accounting-jobs?xt=catsrch&qf[]=1',\n",
              " 'https://www.naukri.com/interior-design-jobs?xt=catsrch&qf[]=2',\n",
              " 'https://www.naukri.com/bank-jobs?xt=catsrch&qf[]=6',\n",
              " 'https://www.naukri.com/content-writing-jobs?xt=catsrch&qf[]=5',\n",
              " 'https://www.naukri.com/consultant-jobs?xt=catsrch&qf[]=9',\n",
              " 'https://www.naukri.com/engineering-jobs?xt=catsrch&qf[]=21',\n",
              " 'https://www.naukri.com/export-import-jobs?xt=catsrch&qf[]=10',\n",
              " 'https://www.naukri.com/merchandiser-jobs?xt=catsrch&qf[]=10',\n",
              " 'https://www.naukri.com/security-jobs?xt=catsrch&qf[]=45',\n",
              " 'https://www.naukri.com/hr-jobs?xt=catsrch&qf[]=12',\n",
              " 'https://www.naukri.com/hotel-jobs?xt=catsrch&qf[]=4',\n",
              " 'https://www.naukri.com/application-programming-jobs?xt=catsrch&qf[]=24.01',\n",
              " 'https://www.naukri.com/client-server-jobs?xt=catsrch&qf[]=24.02',\n",
              " 'https://www.naukri.com/dba-jobs?xt=catsrch&qf[]=24.03',\n",
              " 'https://www.naukri.com/ecommerce-jobs?xt=catsrch&qf[]=24.12',\n",
              " 'https://www.naukri.com/erp-jobs?xt=catsrch&qf[]=24.04',\n",
              " 'https://www.naukri.com/vlsi-jobs?xt=catsrch&qf[]=24.05',\n",
              " 'https://www.naukri.com/mainframe-jobs?xt=catsrch&qf[]=24.13',\n",
              " 'https://www.naukri.com/middleware-jobs?xt=catsrch&qf[]=24.15',\n",
              " 'https://www.naukri.com/mobile-jobs?xt=catsrch&qf[]=24.14',\n",
              " 'https://www.naukri.com/network-administrator-jobs?xt=catsrch&qf[]=24.06',\n",
              " 'https://www.naukri.com/information-technology-jobs?xt=catsrch&qf[]=24',\n",
              " 'https://www.naukri.com/testing-jobs?xt=catsrch&qf[]=24.08',\n",
              " 'https://www.naukri.com/system-programming-jobs?xt=catsrch&qf[]=24.09',\n",
              " 'https://www.naukri.com/edp-jobs?xt=catsrch&qf[]=24.11',\n",
              " 'https://www.naukri.com/telecom-software-jobs?xt=catsrch&qf[]=24.10',\n",
              " 'https://www.naukri.com/telecom-jobs?xt=catsrch&qf[]=37',\n",
              " 'https://www.naukri.com/bpo-jobs?xt=catsrch&qf[]=8',\n",
              " 'https://www.naukri.com/legal-jobs?xt=catsrch&qf[]=13',\n",
              " 'https://www.naukri.com/marketing-jobs?xt=catsrch&qf[]=15',\n",
              " 'https://www.naukri.com/packaging-jobs?xt=catsrch&qf[]=18',\n",
              " 'https://www.naukri.com/pharma-jobs?xt=catsrch&qf[]=16',\n",
              " 'https://www.naukri.com/maintenance-jobs?xt=catsrch&qf[]=19',\n",
              " 'https://www.naukri.com/logistics-jobs?xt=catsrch&qf[]=14',\n",
              " 'https://www.naukri.com/sales-jobs?xt=catsrch&qf[]=22',\n",
              " 'https://www.naukri.com/secretary-jobs?xt=catsrch&qf[]=11',\n",
              " 'https://www.naukri.com/corporate-planning-jobs?xt=catsrch&qf[]=7',\n",
              " 'https://www.naukri.com/site-engineering-jobs?xt=catsrch&qf[]=20',\n",
              " 'https://www.naukri.com/film-jobs?xt=catsrch&qf[]=43',\n",
              " 'https://www.naukri.com/teaching-jobs?xt=catsrch&qf[]=36',\n",
              " 'https://www.naukri.com/airline-jobs?xt=catsrch&qf[]=44',\n",
              " 'https://www.naukri.com/graphic-designer-jobs?xt=catsrch&qf[]=3',\n",
              " 'https://www.naukri.com/shipping-jobs?xt=catsrch&qf[]=82',\n",
              " 'https://www.naukri.com/analytics-jobs?xt=catsrch&qf[]=81',\n",
              " 'https://www.naukri.com/business-intelligence-jobs?xt=catsrch&qf[]=81']"
            ]
          },
          "metadata": {
            "tags": []
          },
          "execution_count": 4
        }
      ]
    },
    {
      "cell_type": "markdown",
      "metadata": {
        "id": "9zk9aCh9iX6p"
      },
      "source": [
        "<br>\n",
        "\n",
        "\n",
        "In order to make the **urls** generic. We will need use a library called **Yarl**(Yet another URL library). All url parts: scheme, user, password, host, port, path, query and fragment are accessible by yarl properties.\n",
        "\n",
        "We will use **yarl** to access different parts of the variuos **urls**.\n",
        "\n"
      ]
    },
    {
      "cell_type": "code",
      "metadata": {
        "id": "x-HFBPZahCIy",
        "outputId": "2342098c-7cf7-40c7-8895-b77cb2b36864"
      },
      "source": [
        "#in order to use yarl, we need to first install the yarl library\n",
        "pip install yarl"
      ],
      "execution_count": null,
      "outputs": [
        {
          "output_type": "stream",
          "text": [
            "Requirement already satisfied: yarl in /Users/mybeast/opt/anaconda3/lib/python3.7/site-packages (1.6.3)\n",
            "Requirement already satisfied: multidict>=4.0 in /Users/mybeast/opt/anaconda3/lib/python3.7/site-packages (from yarl) (5.1.0)\n",
            "Requirement already satisfied: typing-extensions>=3.7.4 in /Users/mybeast/opt/anaconda3/lib/python3.7/site-packages (from yarl) (3.7.4.3)\n",
            "Requirement already satisfied: idna>=2.0 in /Users/mybeast/opt/anaconda3/lib/python3.7/site-packages (from yarl) (2.8)\n",
            "Note: you may need to restart the kernel to use updated packages.\n"
          ],
          "name": "stdout"
        }
      ]
    },
    {
      "cell_type": "code",
      "metadata": {
        "id": "VTuE_AxXhCIz"
      },
      "source": [
        "import yarl  # firsr make sure u have run pip install yarl above\n",
        "# part = yarl.URL('https://www.naukri.com/business-intelligence-jobs?xt=catsrch&qf[]=81')\n",
        "# u=part.path_qs"
      ],
      "execution_count": null,
      "outputs": []
    },
    {
      "cell_type": "code",
      "metadata": {
        "id": "T-p6rlMyhCIz"
      },
      "source": [
        "from yarl import URL  #importing the yarl library\n",
        "n = [] #an empty set that will contain the job type of the url\n",
        "for i in urls:\n",
        "    n.append(URL(i).path) #getting the job type part of the url using yarl property: path\n",
        "#     print(n)"
      ],
      "execution_count": null,
      "outputs": []
    },
    {
      "cell_type": "code",
      "metadata": {
        "id": "d3SuaimrhCI0",
        "outputId": "90f0fe1d-5a11-46b2-9ccc-3f796025ea12"
      },
      "source": [
        "#let's see what is contain in 'n'\n",
        "\n",
        "n"
      ],
      "execution_count": null,
      "outputs": [
        {
          "output_type": "execute_result",
          "data": {
            "text/plain": [
              "['/accounting-jobs',\n",
              " '/interior-design-jobs',\n",
              " '/bank-jobs',\n",
              " '/content-writing-jobs',\n",
              " '/consultant-jobs',\n",
              " '/engineering-jobs',\n",
              " '/export-import-jobs',\n",
              " '/merchandiser-jobs',\n",
              " '/security-jobs',\n",
              " '/hr-jobs',\n",
              " '/hotel-jobs',\n",
              " '/application-programming-jobs',\n",
              " '/client-server-jobs',\n",
              " '/dba-jobs',\n",
              " '/ecommerce-jobs',\n",
              " '/erp-jobs',\n",
              " '/vlsi-jobs',\n",
              " '/mainframe-jobs',\n",
              " '/middleware-jobs',\n",
              " '/mobile-jobs',\n",
              " '/network-administrator-jobs',\n",
              " '/information-technology-jobs',\n",
              " '/testing-jobs',\n",
              " '/system-programming-jobs',\n",
              " '/edp-jobs',\n",
              " '/telecom-software-jobs',\n",
              " '/telecom-jobs',\n",
              " '/bpo-jobs',\n",
              " '/legal-jobs',\n",
              " '/marketing-jobs',\n",
              " '/packaging-jobs',\n",
              " '/pharma-jobs',\n",
              " '/maintenance-jobs',\n",
              " '/logistics-jobs',\n",
              " '/sales-jobs',\n",
              " '/secretary-jobs',\n",
              " '/corporate-planning-jobs',\n",
              " '/site-engineering-jobs',\n",
              " '/film-jobs',\n",
              " '/teaching-jobs',\n",
              " '/airline-jobs',\n",
              " '/graphic-designer-jobs',\n",
              " '/shipping-jobs',\n",
              " '/analytics-jobs',\n",
              " '/business-intelligence-jobs']"
            ]
          },
          "metadata": {
            "tags": []
          },
          "execution_count": 9
        }
      ]
    },
    {
      "cell_type": "code",
      "metadata": {
        "id": "q5xwXRifhCI0"
      },
      "source": [
        "m = [] #an empty list that will contain the rest of the url after the job part\n",
        "for i in urls:\n",
        "    m.append(URL(i).query_string)  #getting the rest of the url using yarl property: query_string\n",
        "#     print(m)"
      ],
      "execution_count": null,
      "outputs": []
    },
    {
      "cell_type": "code",
      "metadata": {
        "id": "IzIMqrnQhCI1",
        "outputId": "1a80df01-bfe2-4e5b-dbbe-1acc144d912e"
      },
      "source": [
        "#let's see what is contain in 'm'\n",
        "\n",
        "m"
      ],
      "execution_count": null,
      "outputs": [
        {
          "output_type": "execute_result",
          "data": {
            "text/plain": [
              "['xt=catsrch&qf[]=1',\n",
              " 'xt=catsrch&qf[]=2',\n",
              " 'xt=catsrch&qf[]=6',\n",
              " 'xt=catsrch&qf[]=5',\n",
              " 'xt=catsrch&qf[]=9',\n",
              " 'xt=catsrch&qf[]=21',\n",
              " 'xt=catsrch&qf[]=10',\n",
              " 'xt=catsrch&qf[]=10',\n",
              " 'xt=catsrch&qf[]=45',\n",
              " 'xt=catsrch&qf[]=12',\n",
              " 'xt=catsrch&qf[]=4',\n",
              " 'xt=catsrch&qf[]=24.01',\n",
              " 'xt=catsrch&qf[]=24.02',\n",
              " 'xt=catsrch&qf[]=24.03',\n",
              " 'xt=catsrch&qf[]=24.12',\n",
              " 'xt=catsrch&qf[]=24.04',\n",
              " 'xt=catsrch&qf[]=24.05',\n",
              " 'xt=catsrch&qf[]=24.13',\n",
              " 'xt=catsrch&qf[]=24.15',\n",
              " 'xt=catsrch&qf[]=24.14',\n",
              " 'xt=catsrch&qf[]=24.06',\n",
              " 'xt=catsrch&qf[]=24',\n",
              " 'xt=catsrch&qf[]=24.08',\n",
              " 'xt=catsrch&qf[]=24.09',\n",
              " 'xt=catsrch&qf[]=24.11',\n",
              " 'xt=catsrch&qf[]=24.10',\n",
              " 'xt=catsrch&qf[]=37',\n",
              " 'xt=catsrch&qf[]=8',\n",
              " 'xt=catsrch&qf[]=13',\n",
              " 'xt=catsrch&qf[]=15',\n",
              " 'xt=catsrch&qf[]=18',\n",
              " 'xt=catsrch&qf[]=16',\n",
              " 'xt=catsrch&qf[]=19',\n",
              " 'xt=catsrch&qf[]=14',\n",
              " 'xt=catsrch&qf[]=22',\n",
              " 'xt=catsrch&qf[]=11',\n",
              " 'xt=catsrch&qf[]=7',\n",
              " 'xt=catsrch&qf[]=20',\n",
              " 'xt=catsrch&qf[]=43',\n",
              " 'xt=catsrch&qf[]=36',\n",
              " 'xt=catsrch&qf[]=44',\n",
              " 'xt=catsrch&qf[]=3',\n",
              " 'xt=catsrch&qf[]=82',\n",
              " 'xt=catsrch&qf[]=81',\n",
              " 'xt=catsrch&qf[]=81']"
            ]
          },
          "metadata": {
            "tags": []
          },
          "execution_count": 11
        }
      ]
    },
    {
      "cell_type": "markdown",
      "metadata": {
        "id": "8cSs0xhdi1fW"
      },
      "source": [
        "<br>\n",
        "\n",
        "Now that we have been able to extract the variuos parts of the **urls**, we will sticth them together but this time we will add a placeholder **-{}** after the ***job type part*** of the url."
      ]
    },
    {
      "cell_type": "code",
      "metadata": {
        "id": "ycoiNbQLhCI4"
      },
      "source": [
        "gen_urls= []\n",
        "for i in range(len(n)):\n",
        "\n",
        "    url = 'https://www.naukri.com/'+n[i]+'-{}?'+m[i] #adding the domain of the url, the job part, the placeholder {} , as well as the rest of the url together\n",
        "    gen_urls.append(url) #appending our generic url into a list"
      ],
      "execution_count": null,
      "outputs": []
    },
    {
      "cell_type": "markdown",
      "metadata": {
        "id": "sugcvNsKjD1S"
      },
      "source": [
        "As seen below, all good. we have the our urls with a placeholder **{}** where we can simply be adding our page numbers to navigate to different pages as we scrape our data."
      ]
    },
    {
      "cell_type": "code",
      "metadata": {
        "id": "aNN-U2AOhCI5",
        "outputId": "fbea5c3f-64a0-4380-8e7f-5725a3ca3644"
      },
      "source": [
        "gen_urls"
      ],
      "execution_count": null,
      "outputs": [
        {
          "output_type": "execute_result",
          "data": {
            "text/plain": [
              "['https://www.naukri.com//accounting-jobs-{}?xt=catsrch&qf[]=1',\n",
              " 'https://www.naukri.com//interior-design-jobs-{}?xt=catsrch&qf[]=2',\n",
              " 'https://www.naukri.com//bank-jobs-{}?xt=catsrch&qf[]=6',\n",
              " 'https://www.naukri.com//content-writing-jobs-{}?xt=catsrch&qf[]=5',\n",
              " 'https://www.naukri.com//consultant-jobs-{}?xt=catsrch&qf[]=9',\n",
              " 'https://www.naukri.com//engineering-jobs-{}?xt=catsrch&qf[]=21',\n",
              " 'https://www.naukri.com//export-import-jobs-{}?xt=catsrch&qf[]=10',\n",
              " 'https://www.naukri.com//merchandiser-jobs-{}?xt=catsrch&qf[]=10',\n",
              " 'https://www.naukri.com//security-jobs-{}?xt=catsrch&qf[]=45',\n",
              " 'https://www.naukri.com//hr-jobs-{}?xt=catsrch&qf[]=12',\n",
              " 'https://www.naukri.com//hotel-jobs-{}?xt=catsrch&qf[]=4',\n",
              " 'https://www.naukri.com//application-programming-jobs-{}?xt=catsrch&qf[]=24.01',\n",
              " 'https://www.naukri.com//client-server-jobs-{}?xt=catsrch&qf[]=24.02',\n",
              " 'https://www.naukri.com//dba-jobs-{}?xt=catsrch&qf[]=24.03',\n",
              " 'https://www.naukri.com//ecommerce-jobs-{}?xt=catsrch&qf[]=24.12',\n",
              " 'https://www.naukri.com//erp-jobs-{}?xt=catsrch&qf[]=24.04',\n",
              " 'https://www.naukri.com//vlsi-jobs-{}?xt=catsrch&qf[]=24.05',\n",
              " 'https://www.naukri.com//mainframe-jobs-{}?xt=catsrch&qf[]=24.13',\n",
              " 'https://www.naukri.com//middleware-jobs-{}?xt=catsrch&qf[]=24.15',\n",
              " 'https://www.naukri.com//mobile-jobs-{}?xt=catsrch&qf[]=24.14',\n",
              " 'https://www.naukri.com//network-administrator-jobs-{}?xt=catsrch&qf[]=24.06',\n",
              " 'https://www.naukri.com//information-technology-jobs-{}?xt=catsrch&qf[]=24',\n",
              " 'https://www.naukri.com//testing-jobs-{}?xt=catsrch&qf[]=24.08',\n",
              " 'https://www.naukri.com//system-programming-jobs-{}?xt=catsrch&qf[]=24.09',\n",
              " 'https://www.naukri.com//edp-jobs-{}?xt=catsrch&qf[]=24.11',\n",
              " 'https://www.naukri.com//telecom-software-jobs-{}?xt=catsrch&qf[]=24.10',\n",
              " 'https://www.naukri.com//telecom-jobs-{}?xt=catsrch&qf[]=37',\n",
              " 'https://www.naukri.com//bpo-jobs-{}?xt=catsrch&qf[]=8',\n",
              " 'https://www.naukri.com//legal-jobs-{}?xt=catsrch&qf[]=13',\n",
              " 'https://www.naukri.com//marketing-jobs-{}?xt=catsrch&qf[]=15',\n",
              " 'https://www.naukri.com//packaging-jobs-{}?xt=catsrch&qf[]=18',\n",
              " 'https://www.naukri.com//pharma-jobs-{}?xt=catsrch&qf[]=16',\n",
              " 'https://www.naukri.com//maintenance-jobs-{}?xt=catsrch&qf[]=19',\n",
              " 'https://www.naukri.com//logistics-jobs-{}?xt=catsrch&qf[]=14',\n",
              " 'https://www.naukri.com//sales-jobs-{}?xt=catsrch&qf[]=22',\n",
              " 'https://www.naukri.com//secretary-jobs-{}?xt=catsrch&qf[]=11',\n",
              " 'https://www.naukri.com//corporate-planning-jobs-{}?xt=catsrch&qf[]=7',\n",
              " 'https://www.naukri.com//site-engineering-jobs-{}?xt=catsrch&qf[]=20',\n",
              " 'https://www.naukri.com//film-jobs-{}?xt=catsrch&qf[]=43',\n",
              " 'https://www.naukri.com//teaching-jobs-{}?xt=catsrch&qf[]=36',\n",
              " 'https://www.naukri.com//airline-jobs-{}?xt=catsrch&qf[]=44',\n",
              " 'https://www.naukri.com//graphic-designer-jobs-{}?xt=catsrch&qf[]=3',\n",
              " 'https://www.naukri.com//shipping-jobs-{}?xt=catsrch&qf[]=82',\n",
              " 'https://www.naukri.com//analytics-jobs-{}?xt=catsrch&qf[]=81',\n",
              " 'https://www.naukri.com//business-intelligence-jobs-{}?xt=catsrch&qf[]=81']"
            ]
          },
          "metadata": {
            "tags": []
          },
          "execution_count": 14
        }
      ]
    },
    {
      "cell_type": "markdown",
      "metadata": {
        "id": "KcgKy8g6jI_V"
      },
      "source": [
        "Confirming below to see if we still have same number of urls as given in original dataset."
      ]
    },
    {
      "cell_type": "code",
      "metadata": {
        "id": "QG2czsiGhCI5",
        "outputId": "6a134f65-dede-4645-e700-6c39cab5bd23"
      },
      "source": [
        "joblinks.shape"
      ],
      "execution_count": null,
      "outputs": [
        {
          "output_type": "execute_result",
          "data": {
            "text/plain": [
              "(45, 2)"
            ]
          },
          "metadata": {
            "tags": []
          },
          "execution_count": 15
        }
      ]
    },
    {
      "cell_type": "code",
      "metadata": {
        "id": "kGL2dqTghCI7",
        "outputId": "87e5462b-87e1-4497-a764-6a49874223cc"
      },
      "source": [
        "len(gen_urls)"
      ],
      "execution_count": null,
      "outputs": [
        {
          "output_type": "execute_result",
          "data": {
            "text/plain": [
              "45"
            ]
          },
          "metadata": {
            "tags": []
          },
          "execution_count": 16
        }
      ]
    },
    {
      "cell_type": "markdown",
      "metadata": {
        "id": "oFu77VhGjNd2"
      },
      "source": [
        "#**Scraping Data From Naukri.Com**"
      ]
    },
    {
      "cell_type": "markdown",
      "metadata": {
        "id": "Cc6gcrA3jTW6"
      },
      "source": [
        "In order to scrape the required data from naukri.com, we will follow a simple two step process:\n",
        "\n",
        "\n",
        "\n",
        "1.   Define a dataframe which will contain our data\n",
        "2.   Create a generic python code which will help to extract the data as required.\n",
        "\n"
      ]
    },
    {
      "cell_type": "markdown",
      "metadata": {
        "id": "hKUVqYNkjYC0"
      },
      "source": [
        "<br>\n",
        "\n",
        "\n",
        "**Create a dataframe to contain our scraped data**"
      ]
    },
    {
      "cell_type": "code",
      "metadata": {
        "id": "6qhZF8sxhCI_"
      },
      "source": [
        "df = pd.DataFrame(columns=['Job_Title','Experience','Company','Scraping_Date','Salary','Location','Tags_Associated','Posting_Date'])\n",
        "\n",
        "\n",
        "\n"
      ],
      "execution_count": null,
      "outputs": []
    },
    {
      "cell_type": "markdown",
      "metadata": {
        "id": "ZL7yftYUjbRd"
      },
      "source": [
        "**Create a generic python code to scrape the required data**"
      ]
    },
    {
      "cell_type": "code",
      "metadata": {
        "id": "QHByApbYhCI_",
        "outputId": "3c2e9711-fad1-4bb5-fe18-f10f3d300613"
      },
      "source": [
        "\n",
        "for page in range(1,2):\n",
        "    for urll in gen_urls[0:1]:\n",
        "        url = urll.format(page)\n",
        "        driver = webdriver.Chrome('/Users/mybeast/Downloads/chromedriver')\n",
        "        driver.get(url)\n",
        "\n",
        "        time.sleep(5)\n",
        "\n",
        "        soup = BeautifulSoup(driver.page_source,'html5lib')\n",
        "\n",
        "        driver.close()\n",
        "\n",
        "\n",
        "\n",
        "\n",
        "#         print(soup.prettify())\n",
        "        results = soup.find(class_='list')\n",
        "        job_elems = results.find_all('article',class_='jobTuple bgWhite br4 mb-8')\n",
        "\n",
        "\n",
        "        for job_elem in job_elems:\n",
        "\n",
        "\n",
        "#                     #function area\n",
        "#             func_results = soup.find('p',class_='jdRightItemValue')\n",
        "#             if func_results is None:\n",
        "#                 func_results = 'Not Available'\n",
        "#                 continue\n",
        "#             else:\n",
        "#                 func_area = func_results.text\n",
        "#                 print(func_area)\n",
        "\n",
        "            #job title\n",
        "            Job_Title = job_elem.find('a',class_='title fw500 ellipsis')\n",
        "            print(Job_Title.text)\n",
        "\n",
        "            # Experience\n",
        "            Exp = job_elem.find('li',class_='fleft grey-text br2 placeHolderLi experience')\n",
        "            Exp_span = Exp.find('span',class_='ellipsis fleft fs12 lh16')\n",
        "            if Exp_span is None:\n",
        "                continue\n",
        "            else:\n",
        "                Experience = Exp_span.text\n",
        "                print(Experience)\n",
        "\n",
        "\n",
        "\n",
        "            # Company\n",
        "            Company = job_elem.find('a',class_='subTitle ellipsis fleft')\n",
        "            print(Company.text)\n",
        "\n",
        "\n",
        "            # Date Scraped\n",
        "            from datetime import date\n",
        "            today = date.today()\n",
        "                    # dd/mm/YY\n",
        "            date_today = today.strftime(\"%d/%m/%Y\")\n",
        "            print(date_today)\n",
        "\n",
        "\n",
        "            # Salary\n",
        "            Sal = job_elem.find('li',class_='fleft grey-text br2 placeHolderLi salary')\n",
        "            Sal_span = Sal.find('span',class_='ellipsis fleft fs12 lh16')\n",
        "            if Sal_span is None:\n",
        "                continue\n",
        "            else:\n",
        "                Salary = Sal_span.text\n",
        "                print(Salary)\n",
        "\n",
        "\n",
        "            # Location for the job post\n",
        "            Loc = job_elem.find('li',class_='fleft grey-text br2 placeHolderLi location')\n",
        "            Loc_exp = Loc.find('span',class_='ellipsis fleft fs12 lh16')\n",
        "            if Loc_exp is None:\n",
        "                continue\n",
        "            else:\n",
        "                Location = Loc_exp.text\n",
        "                print(Location)\n",
        "\n",
        "\n",
        "\n",
        "            #tags\n",
        "\n",
        "            tags = job_elem.find('li',class_='fleft fs12 grey-text lh16 dot')\n",
        "\n",
        "            if tags is None:\n",
        "                continue\n",
        "            else:\n",
        "                assoc_tags = tags.text\n",
        "                print(assoc_tags)\n",
        "\n",
        "\n",
        "\n",
        "\n",
        "            # Date job Posted\n",
        "            date = job_elem.find(\"div\",[\"type br2 fleft grey\",\"type br2 fleft green\"])\n",
        "            date_posted = date.find('span',class_='fleft fw500')\n",
        "            if date_posted is None:\n",
        "                continue\n",
        "            else:\n",
        "                Posting_Date = date_posted.text\n",
        "                print(Posting_Date)\n",
        "\n",
        "            df=df.append({'Job_Title':Job_Title.text,'Experience':Experience,'Company':Company.text,'Scraping_Date':date_today, 'Salary':Salary,'Location':Location,'Tags_Associated':assoc_tags,'Posting_Date':Posting_Date},ignore_index = True)\n",
        "\n",
        ""
      ],
      "execution_count": null,
      "outputs": [
        {
          "output_type": "stream",
          "text": [
            "Accounts Receivable/Payable Executive - With Good Communication Skill\n",
            "0-2 Yrs\n",
            "Southern Cross Group India Pvt Ltd\n",
            "24/04/2021\n",
            "Not disclosed\n",
            "Chennai\n",
            "P\n",
            "4 Days Ago\n",
            "Accounts Payable Executive\n",
            "0-2 Yrs\n",
            "Super India Tech Mark\n",
            "24/04/2021\n",
            "1,25,000 - 2,25,000 PA.\n",
            "Rohtak\n",
            "Accounting\n",
            "9 Days Ago\n",
            "Accounts Payable Executive\n",
            "0-2 Yrs\n",
            "Super India Tech Mark\n",
            "24/04/2021\n",
            "1,25,000 - 2,25,000 PA.\n",
            "Guwahati\n",
            "Accounting\n",
            "10 Days Ago\n",
            "Accounts Executive – Accounts Payable\n",
            "0-4 Yrs\n",
            "QAI India Limited\n",
            "24/04/2021\n",
            "Not disclosed\n",
            "New Delhi\n",
            "P\n",
            "15 Days Ago\n",
            "Accounts & Finance Executive\n",
            "\n",
            "0-5 Yrs\n",
            "Everfine Management Services \n",
            "24/04/2021\n",
            "3,00,000 - 6,00,000 PA.\n",
            "Kolkata, Hyderabad/Secunderabad, Mangaluru/Mangalore, Ahmedabad, Chennai, Bangalore/Bengaluru\n",
            "balance sheet\n",
            "Just Now\n",
            "Finance & Accounts executive - Bangalore\n",
            "0-0 Yrs\n",
            "RANDSTAD INDIA PVT LTD\n",
            "24/04/2021\n",
            "2,00,000 - 3,00,000 PA.\n",
            "Bangalore Rural, Bangalore/Bengaluru\n",
            "fresher\n",
            "2 Days Ago\n",
            "Accounts Payable  -  Executive / Sr. Executive\n",
            "5-8 Yrs\n",
            "Lodha group\n",
            "24/04/2021\n",
            "5,50,000 - 7,50,000 PA.\n",
            "Mumbai (All Areas)\n",
            "SAP\n",
            "2 Days Ago\n",
            "Accounts Executive / Senior Accounts Executive\n",
            "0-4 Yrs\n",
            "Reputed Group of Educational Institutes in Bengaluru ( Bannerghatta Road )\n",
            "24/04/2021\n",
            "1,25,000 - 3,00,000 PA.\n",
            "Bangalore/Bengaluru\n",
            "Accounting\n",
            "12 Days Ago\n",
            "Executive F&A - Accounts Payable - US Shift\n",
            "4-6 Yrs\n",
            "Tata International Limited\n",
            "24/04/2021\n",
            "Not disclosed\n",
            "Mumbai (All Areas)(Wadala East)\n",
            "P\n",
            "1 Day Ago\n",
            "Executive / Sr. Executive Finance & Accounts\n",
            "\n",
            "\n",
            "0-5 Yrs\n",
            "Everfine Management Services \n",
            "24/04/2021\n",
            "3,00,000 - 6,00,000 PA.\n",
            "Kochi/Cochin, Bhubaneswar, Visakhapatnam, Mysore/Mysuru, Ooty, Trivandrum/Thiruvananthapuram\n",
            "balance sheet\n",
            "Just Now\n",
            "Accounts Executive\n",
            "0-5 Yrs\n",
            "HARD N SOFT TECHNOLOGIES PVT LTD\n",
            "24/04/2021\n",
            "1,25,000 - 4,00,000 PA.\n",
            "Chennai(Mogappair)\n",
            "accounting\n",
            "2 Days Ago\n",
            "Opening For Accounts position in Middle Level / Executive Level\n",
            "0-5 Yrs\n",
            "Lloyd Insulations India Ltd\n",
            "24/04/2021\n",
            "Not disclosed\n",
            "Chennai\n",
            "Team Management\n",
            "9 Days Ago\n",
            "Accounts & Finance Executive, Freshers\n",
            "0-5 Yrs\n",
            "Creative Hands HR Consultancy\n",
            "24/04/2021\n",
            "4,00,000 - 6,00,000 PA.\n",
            "Mumbai, Indore, Hyderabad/Secunderabad, Pune, Chennai, Bangalore/Bengaluru\n",
            "ledger\n",
            "6 Days Ago\n",
            "Accounts & Finance Executive, Freshers\n",
            "0-5 Yrs\n",
            "Creative Hands HR Consultancy\n",
            "24/04/2021\n",
            "4,00,000 - 6,00,000 PA.\n",
            "Mumbai, Hyderabad/Secunderabad, Pune, Chennai, Jaipur, Bangalore/Bengaluru\n",
            "ledger\n",
            "6 Days Ago\n",
            "Accounts & Finance Executive, Freshers\n",
            "0-5 Yrs\n",
            "Creative Hands HR Consultancy\n",
            "24/04/2021\n",
            "4,00,000 - 6,00,000 PA.\n",
            "Mumbai, Hyderabad/Secunderabad, Pune, Chennai, Jaipur, Bangalore/Bengaluru\n",
            "ledger\n",
            "6 Days Ago\n",
            "Accounts & Finance Executive, Freshers\n",
            "0-5 Yrs\n",
            "Creative Hands HR Consultancy\n",
            "24/04/2021\n",
            "4,00,000 - 6,00,000 PA.\n",
            "Mumbai, Hyderabad/Secunderabad, Pune, Chennai, Jaipur, Bangalore/Bengaluru\n",
            "ledger\n",
            "6 Days Ago\n",
            "Accounts Executive\n",
            "0-2 Yrs\n",
            "Super India Tech Mark\n",
            "24/04/2021\n",
            "1,25,000 - 2,25,000 PA.\n",
            "Bangalore/Bengaluru\n",
            "Tally Software\n",
            "7 Days Ago\n",
            "Sr. Process Associate - Accounts Payable\n",
            "0-2 Yrs\n",
            "Siemens Limited\n",
            "24/04/2021\n",
            "Not disclosed\n",
            "Bangalore/Bengaluru\n",
            "Business services\n",
            "11 Days Ago\n",
            "Accounts Executive\n",
            "0-1 Yrs\n",
            "Super India Tech Mark\n",
            "24/04/2021\n",
            "1,75,000 - 2,75,000 PA.\n",
            "Visakhapatnam\n",
            "Finance\n",
            "12 Days Ago\n",
            "Accounts & Finance Executive\n",
            "0-5 Yrs\n",
            "Global Treatment Services Private Limited \n",
            "24/04/2021\n",
            "Not disclosed\n",
            "Bangalore/Bengaluru\n",
            "TDS\n",
            "12 Days Ago\n"
          ],
          "name": "stdout"
        }
      ]
    },
    {
      "cell_type": "markdown",
      "metadata": {
        "id": "VPaonr1Ejhnv"
      },
      "source": [
        "#Let's observe the data we have scraped and saved in our pandas dataframe"
      ]
    },
    {
      "cell_type": "code",
      "metadata": {
        "id": "cd1AtOcjhCJC",
        "outputId": "097a5836-1623-4633-890a-4f94a1d3f41f"
      },
      "source": [
        "df.head()"
      ],
      "execution_count": null,
      "outputs": [
        {
          "output_type": "execute_result",
          "data": {
            "text/html": [
              "<div>\n",
              "<style scoped>\n",
              "    .dataframe tbody tr th:only-of-type {\n",
              "        vertical-align: middle;\n",
              "    }\n",
              "\n",
              "    .dataframe tbody tr th {\n",
              "        vertical-align: top;\n",
              "    }\n",
              "\n",
              "    .dataframe thead th {\n",
              "        text-align: right;\n",
              "    }\n",
              "</style>\n",
              "<table border=\"1\" class=\"dataframe\">\n",
              "  <thead>\n",
              "    <tr style=\"text-align: right;\">\n",
              "      <th></th>\n",
              "      <th>Job_Title</th>\n",
              "      <th>Experience</th>\n",
              "      <th>Company</th>\n",
              "      <th>Scraping_Date</th>\n",
              "      <th>Salary</th>\n",
              "      <th>Location</th>\n",
              "      <th>Tags_Associated</th>\n",
              "      <th>Posting_Date</th>\n",
              "    </tr>\n",
              "  </thead>\n",
              "  <tbody>\n",
              "    <tr>\n",
              "      <th>0</th>\n",
              "      <td>Accounts Receivable/Payable Executive - With G...</td>\n",
              "      <td>0-2 Yrs</td>\n",
              "      <td>Southern Cross Group India Pvt Ltd</td>\n",
              "      <td>24/04/2021</td>\n",
              "      <td>Not disclosed</td>\n",
              "      <td>Chennai</td>\n",
              "      <td>P</td>\n",
              "      <td>4 Days Ago</td>\n",
              "    </tr>\n",
              "    <tr>\n",
              "      <th>1</th>\n",
              "      <td>Accounts Payable Executive</td>\n",
              "      <td>0-2 Yrs</td>\n",
              "      <td>Super India Tech Mark</td>\n",
              "      <td>24/04/2021</td>\n",
              "      <td>1,25,000 - 2,25,000 PA.</td>\n",
              "      <td>Rohtak</td>\n",
              "      <td>Accounting</td>\n",
              "      <td>9 Days Ago</td>\n",
              "    </tr>\n",
              "    <tr>\n",
              "      <th>2</th>\n",
              "      <td>Accounts Payable Executive</td>\n",
              "      <td>0-2 Yrs</td>\n",
              "      <td>Super India Tech Mark</td>\n",
              "      <td>24/04/2021</td>\n",
              "      <td>1,25,000 - 2,25,000 PA.</td>\n",
              "      <td>Guwahati</td>\n",
              "      <td>Accounting</td>\n",
              "      <td>10 Days Ago</td>\n",
              "    </tr>\n",
              "    <tr>\n",
              "      <th>3</th>\n",
              "      <td>Accounts Executive – Accounts Payable</td>\n",
              "      <td>0-4 Yrs</td>\n",
              "      <td>QAI India Limited</td>\n",
              "      <td>24/04/2021</td>\n",
              "      <td>Not disclosed</td>\n",
              "      <td>New Delhi</td>\n",
              "      <td>P</td>\n",
              "      <td>15 Days Ago</td>\n",
              "    </tr>\n",
              "    <tr>\n",
              "      <th>4</th>\n",
              "      <td>Accounts &amp; Finance Executive\\n</td>\n",
              "      <td>0-5 Yrs</td>\n",
              "      <td>Everfine Management Services</td>\n",
              "      <td>24/04/2021</td>\n",
              "      <td>3,00,000 - 6,00,000 PA.</td>\n",
              "      <td>Kolkata, Hyderabad/Secunderabad, Mangaluru/Man...</td>\n",
              "      <td>balance sheet</td>\n",
              "      <td>Just Now</td>\n",
              "    </tr>\n",
              "  </tbody>\n",
              "</table>\n",
              "</div>"
            ],
            "text/plain": [
              "                                           Job_Title Experience  \\\n",
              "0  Accounts Receivable/Payable Executive - With G...    0-2 Yrs   \n",
              "1                         Accounts Payable Executive    0-2 Yrs   \n",
              "2                         Accounts Payable Executive    0-2 Yrs   \n",
              "3              Accounts Executive – Accounts Payable    0-4 Yrs   \n",
              "4                     Accounts & Finance Executive\\n    0-5 Yrs   \n",
              "\n",
              "                              Company Scraping_Date                   Salary  \\\n",
              "0  Southern Cross Group India Pvt Ltd    24/04/2021            Not disclosed   \n",
              "1               Super India Tech Mark    24/04/2021  1,25,000 - 2,25,000 PA.   \n",
              "2               Super India Tech Mark    24/04/2021  1,25,000 - 2,25,000 PA.   \n",
              "3                   QAI India Limited    24/04/2021            Not disclosed   \n",
              "4       Everfine Management Services     24/04/2021  3,00,000 - 6,00,000 PA.   \n",
              "\n",
              "                                            Location Tags_Associated  \\\n",
              "0                                            Chennai               P   \n",
              "1                                             Rohtak      Accounting   \n",
              "2                                           Guwahati      Accounting   \n",
              "3                                          New Delhi               P   \n",
              "4  Kolkata, Hyderabad/Secunderabad, Mangaluru/Man...   balance sheet   \n",
              "\n",
              "  Posting_Date  \n",
              "0   4 Days Ago  \n",
              "1   9 Days Ago  \n",
              "2  10 Days Ago  \n",
              "3  15 Days Ago  \n",
              "4     Just Now  "
            ]
          },
          "metadata": {
            "tags": []
          },
          "execution_count": 63
        }
      ]
    },
    {
      "cell_type": "markdown",
      "metadata": {
        "id": "SytZOrROjpVA"
      },
      "source": [
        "###**Saving the scraped data into a csv file**"
      ]
    },
    {
      "cell_type": "code",
      "metadata": {
        "id": "atJ6H3zZhCJE"
      },
      "source": [
        "df.to_csv('NaukriJobScraped.csv')"
      ],
      "execution_count": null,
      "outputs": []
    },
    {
      "cell_type": "markdown",
      "metadata": {
        "id": "BFQzihmjjxLa"
      },
      "source": [
        "# NB: **Link to my other web scraping work that I have done previously**"
      ]
    },
    {
      "cell_type": "markdown",
      "metadata": {
        "id": "AXUpnFe5jy2m"
      },
      "source": [
        "\n",
        "\n",
        "1.   [Building Amazon Web Scraper with python](https://colab.research.google.com/drive/1D9wLwJK9TyuQOIMfXw8CSXK7RgfqIGrn?usp=sharing)\n",
        "2.   [E-commerce webscraping with python](https://colab.research.google.com/drive/1pl6IxlPLTnBMlY_1NjUqMKuMI6NdV5PK?usp=sharing)\n",
        "\n"
      ]
    },
    {
      "cell_type": "code",
      "metadata": {
        "id": "LXCFxZJEjskG"
      },
      "source": [],
      "execution_count": null,
      "outputs": []
    },
    {
      "cell_type": "code",
      "metadata": {
        "id": "n8Bx1gxkjsgU"
      },
      "source": [],
      "execution_count": null,
      "outputs": []
    },
    {
      "cell_type": "code",
      "metadata": {
        "id": "pGiiG3d_jsR0"
      },
      "source": [],
      "execution_count": null,
      "outputs": []
    },
    {
      "cell_type": "code",
      "metadata": {
        "id": "qnc7EuHOjsPj"
      },
      "source": [],
      "execution_count": null,
      "outputs": []
    },
    {
      "cell_type": "code",
      "metadata": {
        "id": "YyKT2xD0jsNL"
      },
      "source": [],
      "execution_count": null,
      "outputs": []
    },
    {
      "cell_type": "code",
      "metadata": {
        "id": "zmKEvZf_jsJ0"
      },
      "source": [],
      "execution_count": null,
      "outputs": []
    },
    {
      "cell_type": "code",
      "metadata": {
        "id": "XBPy29KRjsFS"
      },
      "source": [],
      "execution_count": null,
      "outputs": []
    },
    {
      "cell_type": "code",
      "metadata": {
        "id": "LkPiJd41jsBf"
      },
      "source": [],
      "execution_count": null,
      "outputs": []
    },
    {
      "cell_type": "code",
      "metadata": {
        "id": "sd5n6hOZhCJF",
        "outputId": "56c327df-0cdb-44ca-f8f7-3db0be45ee16"
      },
      "source": [
        "results = soup.find(class_='list')\n",
        "job_elems = results.find_all('article',class_='jobTuple bgWhite br4 mb-8')\n",
        "\n",
        "for job_elem in job_elems:\n",
        "    # URL to apply for the job\n",
        "    URL = job_elem.find('a',class_='title fw500 ellipsis').get('href')\n",
        "    print(URL.strip())"
      ],
      "execution_count": null,
      "outputs": [
        {
          "output_type": "stream",
          "text": [
            "https://www.naukri.com/job-listings-senior-interior-designer-in-out-interior-solutions-bangalore-bengaluru-2-to-4-years-100421004178?src=jobsearchDesk&sid=16192425649389210&xp=1&px=1\n",
            "https://www.naukri.com/job-listings-urgent-requirement-of-interior-designers-in-bangalore-at-livspace-home-interior-design-e-commerce-pvt-ltd-bangalore-bengaluru-3-to-6-years-230421003722?src=jobsearchDesk&sid=16192425649389210&xp=2&px=1\n",
            "https://www.naukri.com/job-listings-interior-designer-bangalore-home-interior-design-e-commerce-pvt-ltd-bangalore-bengaluru-3-to-7-years-210421002272?src=jobsearchDesk&sid=16192425649389210&xp=3&px=1\n",
            "https://www.naukri.com/job-listings-interior-designer-super-india-tech-mark-vasai-0-to-2-years-150421603889?src=jobsearchDesk&sid=16192425649389210&xp=4&px=1\n",
            "https://www.naukri.com/job-listings-interior-designer-home-interior-design-e-commerce-pvt-ltd-thane-navi-mumbai-mumbai-all-areas-3-to-8-years-100421003245?src=jobsearchDesk&sid=16192425649389210&xp=5&px=1\n",
            "https://www.naukri.com/job-listings-interior-designer-khenshu-bangalore-bengaluru-1-to-4-years-200421002185?src=jobsearchDesk&sid=16192425649389210&xp=6&px=1\n",
            "https://www.naukri.com/job-listings-interior-designer-hyderabad-home-interior-design-e-commerce-pvt-ltd-hyderabad-secunderabad-2-to-7-years-170421002871?src=jobsearchDesk&sid=16192425649389210&xp=7&px=1\n",
            "https://www.naukri.com/job-listings-interior-designer-home-interior-design-e-commerce-pvt-ltd-hyderabad-secunderabad-2-to-4-years-140421006003?src=jobsearchDesk&sid=16192425649389210&xp=8&px=1\n",
            "https://www.naukri.com/job-listings-interior-designer-home-interior-design-e-commerce-pvt-ltd-noida-gurgaon-gurugram-delhi-ncr-3-to-8-years-130421002175?src=jobsearchDesk&sid=16192425649389210&xp=9&px=1\n",
            "https://www.naukri.com/job-listings-interior-designer-modular-designing-home-interior-design-e-commerce-pvt-ltd-noida-gurgaon-gurugram-delhi-ncr-2-to-7-years-120121008560?src=jobsearchDesk&sid=16192425649389210&xp=10&px=1\n",
            "https://www.naukri.com/job-listings-interior-designer-keystone-realtors-p-ltd-rustomjee-mumbai-all-areas-2-to-5-years-090421002461?src=jobsearchDesk&sid=16192425649389210&xp=11&px=1\n",
            "https://www.naukri.com/job-listings-interior-designer-super-india-tech-mark-loni-0-to-2-years-190421601467?src=jobsearchDesk&sid=16192425649389210&xp=12&px=1\n",
            "https://www.naukri.com/job-listings-interior-designer-google-sketchup-dki-hyderabad-secunderabad-0-to-5-years-170421003991?src=jobsearchDesk&sid=16192425649389210&xp=13&px=1\n",
            "https://www.naukri.com/job-listings-interior-designer-super-india-tech-mark-siliguri-0-to-2-years-160421604645?src=jobsearchDesk&sid=16192425649389210&xp=14&px=1\n",
            "https://www.naukri.com/job-listings-interior-designer-super-india-tech-mark-jaipur-0-to-1-years-130421604027?src=jobsearchDesk&sid=16192425649389210&xp=15&px=1\n",
            "https://www.naukri.com/job-listings-interior-designer-super-india-tech-mark-loni-0-to-2-years-130421603922?src=jobsearchDesk&sid=16192425649389210&xp=16&px=1\n",
            "https://www.naukri.com/job-listings-interior-designer-super-india-tech-mark-jamshedpur-0-to-2-years-120421606871?src=jobsearchDesk&sid=16192425649389210&xp=17&px=1\n",
            "https://www.naukri.com/job-listings-interior-designer-super-india-tech-mark-dhanbad-0-to-2-years-110421600676?src=jobsearchDesk&sid=16192425649389210&xp=18&px=1\n",
            "https://www.naukri.com/job-listings-architect-interior-designer-super-india-tech-mark-hyderabad-secunderabad-0-to-2-years-090421605908?src=jobsearchDesk&sid=16192425649389210&xp=19&px=1\n",
            "https://www.naukri.com/job-listings-interior-designer-multiple-locations-freshers-any-degree-creative-hands-hr-consultancy-hyderabad-secunderabad-pune-chennai-jaipur-bangalore-bengaluru-delhi-ncr-0-to-1-years-230121601474?src=jobsearchDesk&sid=16192425649389210&xp=20&px=1\n"
          ],
          "name": "stdout"
        }
      ]
    },
    {
      "cell_type": "code",
      "metadata": {
        "id": "0y1x1HkvhCJG",
        "outputId": "cee868a3-c294-47a1-8a61-e6cb7c8aca5b"
      },
      "source": [
        "for job_elem in job_elems:\n",
        "    # Post Title\n",
        "    Exp = job_elem.find('li',class_='fleft grey-text br2 placeHolderLi experience')\n",
        "    Exp_span = Exp.find('span',class_='ellipsis fleft fs12 lh16')\n",
        "    if Exp_span is None:\n",
        "        continue\n",
        "    else:\n",
        "        Experience = Exp_span.text\n",
        "#         print(Experience)\n",
        "    Job_Title = job_elem.find('a',class_='title fw500 ellipsis')\n",
        "#     print(Job_Title.text)\n",
        "\n",
        "    URL = job_elem.find('a',class_='title fw500 ellipsis').get('href')\n",
        "#     print(URL.strip())\n",
        "\n",
        "    Company = job_elem.find('a',class_='subTitle ellipsis fleft')\n",
        "#     print(Company.text)\n",
        "\n",
        "\n",
        "    from datetime import date\n",
        "    today = date.today()\n",
        "            # dd/mm/YY\n",
        "    date_today = today.strftime(\"%d/%m/%Y\")\n",
        "#     print(date_today)\n",
        "\n",
        "\n",
        "#             # Years of experience Required\n",
        "#     Exp = job_elem.find('li',class_='fleft grey-text br2 placeHolderLi experience')\n",
        "#     Exp_span = Exp.find('span',class_='ellipsis fleft fs12 lh16')\n",
        "#     if Exp_span is None:\n",
        "#         continue\n",
        "#     else:\n",
        "#         Experience = Exp_span.text\n",
        "# #         print(Experience)\n",
        "\n",
        "    Sal = job_elem.find('li',class_='fleft grey-text br2 placeHolderLi salary')\n",
        "    Sal_span = Sal.find('span',class_='ellipsis fleft fs12 lh16')\n",
        "    if Sal_span is None:\n",
        "        continue\n",
        "    else:\n",
        "        Salary = Sal_span.text\n",
        "#         print(Salary)\n",
        "\n",
        "            # Location for the job post\n",
        "    Loc = job_elem.find('li',class_='fleft grey-text br2 placeHolderLi location')\n",
        "    Loc_exp = Loc.find('span',class_='ellipsis fleft fs12 lh16')\n",
        "    if Loc_exp is None:\n",
        "        continue\n",
        "    else:\n",
        "        Location = Loc_exp.text\n",
        "#         print(Location)\n",
        "\n",
        "            # Number of days since job posted\n",
        "    date = job_elem.find(\"div\",[\"type br2 fleft grey\",\"type br2 fleft green\"])\n",
        "    date_posted = date.find('span',class_='fleft fw500')\n",
        "    if date_posted is None:\n",
        "        continue\n",
        "    else:\n",
        "        Posting_Date = date_posted.text\n",
        "        print(Posting_Date)\n",
        "  #Appending data to the DataFrame\n",
        "#     df=df.append({'Job_Title':Job_Title.text,'Tags_Associated':Tags_Associated,'Function_Area':funct_area,'Company':Company.text,'Experience':Experience,'Salary':Salary,'Location':Location,'Posting_Date':Posting_Date,'Scraping_Date':date_today},ignore_index = True)\n",
        ""
      ],
      "execution_count": null,
      "outputs": [
        {
          "output_type": "stream",
          "text": [
            "3,50,000 - 5,50,000 PA.\n",
            "13 Days Ago\n",
            "50,000 - 3,00,000 PA.\n",
            "Today\n",
            "Not disclosed\n",
            "2 Days Ago\n",
            "1,25,000 - 2,25,000 PA.\n",
            "8 Days Ago\n",
            "2,00,000 - 5,00,000 PA.\n",
            "13 Days Ago\n",
            "2,00,000 - 5,00,000 PA.\n",
            "3 Days Ago\n",
            "4,00,000 - 7,00,000 PA.\n",
            "6 Days Ago\n",
            "Not disclosed\n",
            "9 Days Ago\n",
            "2,00,000 - 5,00,000 PA.\n",
            "10 Days Ago\n",
            "Not disclosed\n",
            "7 Days Ago\n",
            "Not disclosed\n",
            "14 Days Ago\n",
            "1,25,000 - 2,25,000 PA.\n",
            "4 Days Ago\n",
            "2,00,000 - more than 3,00,000 PA.\n",
            "6 Days Ago\n",
            "1,00,000 - 2,00,000 PA.\n",
            "7 Days Ago\n",
            "2,00,000 - 3,75,000 PA.\n",
            "10 Days Ago\n",
            "1,25,000 - 2,25,000 PA.\n",
            "10 Days Ago\n",
            "1,25,000 - 2,25,000 PA.\n",
            "11 Days Ago\n",
            "1,00,000 - 2,00,000 PA.\n",
            "12 Days Ago\n",
            "1,25,000 - 2,25,000 PA.\n",
            "14 Days Ago\n",
            "2,50,000 - 4,00,000 PA.\n",
            "5 Days Ago\n"
          ],
          "name": "stdout"
        }
      ]
    },
    {
      "cell_type": "code",
      "metadata": {
        "collapsed": true,
        "jupyter": {
          "outputs_hidden": true
        },
        "id": "UQMAoV7KhCJI",
        "outputId": "a1193a62-912b-470e-c8af-d51e3e63764d"
      },
      "source": [
        "for page in range(1,2):\n",
        "    for urll in gen_urls[:2]:\n",
        "        url = urll.format(page)\n",
        "        driver = webdriver.Chrome('/Users/mybeast/Downloads/chromedriver')\n",
        "        driver.get(url)\n",
        "\n",
        "        time.sleep(5)\n",
        "\n",
        "#         soup = BeautifulSoup(driver.page_source,'html5lib')\n",
        "\n",
        "#         # print(soup.prettify())\n",
        "\n",
        "#         driver.close()\n",
        "\n",
        "#         results = soup.find(class_='list')\n",
        "#         job_elems = results.find_all('article',class_='jobTuple bgWhite br4 mb-8')\n",
        "# #         print(job_elems)\n",
        "\n",
        "        soup1 = BeautifulSoup(driver.page_source,'html5lib')\n",
        "        driver.close()\n",
        "        soup_results = soup1.find_all('p')\n",
        "        print(soup_results)\n",
        "#         obj = soup_results[0]\n",
        "#         print(obj)\n",
        "\n",
        "#         parent=obj.find('p','jdRightItemValue')\n",
        "#         parent(parent.text)\n",
        "\n",
        "# #         area=parent.find('span','a-offscreen').text\n",
        "\n",
        "# #         area=soup.findAll('p')\n",
        "# #     #     funct_area = area.text\n",
        "# #         print(area)"
      ],
      "execution_count": null,
      "outputs": [
        {
          "output_type": "stream",
          "text": [
            "[<p><span class=\"noti_Description fullWidth\"></span><span class=\"status\"></span></p>, <p><span class=\"f16 fw500\" title=\"accounting\">Showing jobs for 'accounting'</span><span class=\"quick-search-bar__view__modify-link\">Modify <span class=\"naukicon naukicon-pencil\"></span></span></p>, <p class=\"grey-text lH20 fleft ml-8 txtLbl\"><span class=\"ellipsis fleft\" title=\"Delhi / NCR\">Delhi / NCR</span><span class=\"fleft ml-5\">(10808)</span></p>, <p class=\"grey-text lH20 fleft ml-8 txtLbl\"><span class=\"ellipsis fleft\" title=\"Bangalore/Bengaluru\">Bangalore/Bengaluru</span><span class=\"fleft ml-5\">(10260)</span></p>, <p class=\"grey-text lH20 fleft ml-8 txtLbl\"><span class=\"ellipsis fleft\" title=\"Mumbai (All Areas)\">Mumbai (All Areas)</span><span class=\"fleft ml-5\">(8358)</span></p>, <p class=\"grey-text lH20 fleft ml-8 txtLbl\"><span class=\"ellipsis fleft\" title=\"Mumbai\">Mumbai</span><span class=\"fleft ml-5\">(6558)</span></p>, <p class=\"grey-text lH20 fleft ml-8 txtLbl\"><span class=\"ellipsis fleft\" title=\"0-3 Lakhs\">0-3 Lakhs</span><span class=\"fleft ml-5\">(12221)</span></p>, <p class=\"grey-text lH20 fleft ml-8 txtLbl\"><span class=\"ellipsis fleft\" title=\"3-6 Lakhs\">3-6 Lakhs</span><span class=\"fleft ml-5\">(24060)</span></p>, <p class=\"grey-text lH20 fleft ml-8 txtLbl\"><span class=\"ellipsis fleft\" title=\"6-10 Lakhs\">6-10 Lakhs</span><span class=\"fleft ml-5\">(23850)</span></p>, <p class=\"grey-text lH20 fleft ml-8 txtLbl\"><span class=\"ellipsis fleft\" title=\"10-15 Lakhs\">10-15 Lakhs</span><span class=\"fleft ml-5\">(15297)</span></p>, <p class=\"grey-text lH20 fleft ml-8 txtLbl\"><span class=\"ellipsis fleft\" title=\"Premium MBA\">Premium MBA</span><span class=\"fleft ml-5\">(3692)</span></p>, <p class=\"grey-text lH20 fleft ml-8 txtLbl\"><span class=\"ellipsis fleft\" title=\"Premium Engg\">Premium Engg</span><span class=\"fleft ml-5\">(2287)</span></p>, <p class=\"grey-text lH20 fleft ml-8 txtLbl\"><span class=\"ellipsis fleft\" title=\"International\">International</span><span class=\"fleft ml-5\">(489)</span></p>, <p class=\"grey-text lH20 fleft ml-8 txtLbl\"><span class=\"ellipsis fleft\" title=\"PSU/Government\">PSU/Government</span><span class=\"fleft ml-5\">(48)</span></p>, <p class=\"grey-text lH20 fleft ml-8 txtLbl\"><span class=\"ellipsis fleft\" title=\"Company Jobs\">Company Jobs</span><span class=\"fleft ml-5\">(39940)</span></p>, <p class=\"grey-text lH20 fleft ml-8 txtLbl\"><span class=\"ellipsis fleft\" title=\"Consultant Jobs\">Consultant Jobs</span><span class=\"fleft ml-5\">(9049)</span></p>, <p class=\"grey-text lH20 fleft ml-8 txtLbl\"><span class=\"ellipsis fleft\" title=\"Accenture\">Accenture</span><span class=\"fleft ml-5\">(1561)</span></p>, <p class=\"grey-text lH20 fleft ml-8 txtLbl\"><span class=\"ellipsis fleft\" title=\"IBM India\">IBM India</span><span class=\"fleft ml-5\">(668)</span></p>, <p class=\"grey-text lH20 fleft ml-8 txtLbl\"><span class=\"ellipsis fleft\" title=\"Genpact\">Genpact</span><span class=\"fleft ml-5\">(109)</span></p>, <p class=\"grey-text lH20 fleft ml-8 txtLbl\"><span class=\"ellipsis fleft\" title=\"Reliance Industries\">Reliance Industries</span><span class=\"fleft ml-5\">(63)</span></p>, <p class=\"grey-text lH20 fleft ml-8 txtLbl\"><span class=\"ellipsis fleft\" title=\"Post Graduation Not Required\">Post Graduation Not Required</span><span class=\"fleft ml-5\">(17543)</span></p>, <p class=\"grey-text lH20 fleft ml-8 txtLbl\"><span class=\"ellipsis fleft\" title=\"Any Postgraduate\">Any Postgraduate</span><span class=\"fleft ml-5\">(9115)</span></p>, <p class=\"grey-text lH20 fleft ml-8 txtLbl\"><span class=\"ellipsis fleft\" title=\"Any Graduate\">Any Graduate</span><span class=\"fleft ml-5\">(32944)</span></p>, <p class=\"grey-text lH20 fleft ml-8 txtLbl\"><span class=\"ellipsis fleft\" title=\"B.Com\">B.Com</span><span class=\"fleft ml-5\">(7412)</span></p>, <p class=\"grey-text lH20 fleft ml-8 txtLbl\"><span class=\"ellipsis fleft\" title=\"IT-Software, Software Services\">IT-Software, Software Services</span><span class=\"fleft ml-5\">(12149)</span></p>, <p class=\"grey-text lH20 fleft ml-8 txtLbl\"><span class=\"ellipsis fleft\" title=\"Recruitment, Staffing\">Recruitment, Staffing</span><span class=\"fleft ml-5\">(8590)</span></p>, <p class=\"grey-text lH20 fleft ml-8 txtLbl\"><span class=\"ellipsis fleft\" title=\"Accounting, Finance\">Accounting, Finance</span><span class=\"fleft ml-5\">(3880)</span></p>, <p class=\"grey-text lH20 fleft ml-8 txtLbl\"><span class=\"ellipsis fleft\" title=\"Banking, Financial Services, Broking\">Banking, Financial Services, Broking</span><span class=\"fleft ml-5\">(3821)</span></p>, <p class=\"sort-droop-label\">Relevance<i class=\"naukicon naukicon-arrow-1\"></i></p>, <p class=\"heading\"><span class=\"iconWrapper bgWhite fleft\"><i class=\"naukicon icon-16 naukicon-company\"></i></span><span class=\"fleft mr-5 ml-16 fs16 lh24 fw500\">Filter Jobs by</span><span class=\"fleft fs16 lh24 key fw500\">Top Companies</span></p>, <p class=\"ellipsis fw500 lH20 title\" title=\"Accenture\">Accenture</p>, <p class=\"ellipsis grey-text fs12 lh16\">1561 Jobs</p>, <p class=\"ellipsis fw500 lH20 title\" title=\"IBM India\">IBM India</p>, <p class=\"ellipsis grey-text fs12 lh16\">668 Jobs</p>, <p class=\"ellipsis fw500 lH20 title\" title=\"Genpact\">Genpact</p>, <p class=\"ellipsis grey-text fs12 lh16\">109 Jobs</p>, <p class=\"ellipsis fw500 lH20 title\" title=\"Reliance Industries\">Reliance Industries</p>, <p class=\"ellipsis grey-text fs12 lh16\">63 Jobs</p>, <p class=\"heading\"><span class=\"iconWrapper bgWhite fleft\"><i class=\"naukicon icon-16 naukicon-rupee\"></i></span><span class=\"fleft mr-5 ml-16 fs16 lh24 fw500\">Filter Jobs by</span><span class=\"fleft fs16 lh24 key fw500\">Salary</span></p>, <p class=\"ellipsis fw500 lH20 title\" title=\"0-3 Lakhs\">0-3 Lakhs</p>, <p class=\"ellipsis grey-text fs12 lh16\">12221 Jobs</p>, <p class=\"ellipsis fw500 lH20 title\" title=\"3-6 Lakhs\">3-6 Lakhs</p>, <p class=\"ellipsis grey-text fs12 lh16\">24060 Jobs</p>, <p class=\"ellipsis fw500 lH20 title\" title=\"6-10 Lakhs\">6-10 Lakhs</p>, <p class=\"ellipsis grey-text fs12 lh16\">23850 Jobs</p>, <p class=\"ellipsis fw500 lH20 title\" title=\"10-15 Lakhs\">10-15 Lakhs</p>, <p class=\"ellipsis grey-text fs12 lh16\">15297 Jobs</p>, <p class=\"heading\"><span class=\"iconWrapper bgWhite fleft\"><i class=\"naukicon icon-16 naukicon-location-pin\"></i></span><span class=\"fleft mr-5 ml-16 fs16 lh24 fw500\">Filter Jobs by</span><span class=\"fleft fs16 lh24 key fw500\">Location</span></p>, <p class=\"ellipsis fw500 lH20 title\" title=\"Delhi / NCR\">Delhi / NCR</p>, <p class=\"ellipsis grey-text fs12 lh16\">10808 Jobs</p>, <p class=\"ellipsis fw500 lH20 title\" title=\"Bangalore/Bengaluru\">Bangalore/Bengaluru</p>, <p class=\"ellipsis grey-text fs12 lh16\">10260 Jobs</p>, <p class=\"ellipsis fw500 lH20 title\" title=\"Mumbai (All Areas)\">Mumbai (All Areas)</p>, <p class=\"ellipsis grey-text fs12 lh16\">8358 Jobs</p>, <p class=\"ellipsis fw500 lH20 title\" title=\"Mumbai\">Mumbai</p>, <p class=\"ellipsis grey-text fs12 lh16\">6558 Jobs</p>, <p class=\"fw500 fs16\">Recommended skills for you</p>, <p class=\"title fw500 fs12 lH16\" title=\"Corporate Finance\">Corporate Finance</p>, <p class=\"title fw500 fs12 lH16\" title=\"Executive MBA\">Executive MBA</p>, <p class=\"title fw500 fs12 lH16\" title=\"Masters and PG (Management)\">Masters and PG (Management)</p>, <p class=\"title fw500 fs12 lH16\" title=\"Introduction to Finance\">Introduction to Finance</p>, <p class=\"headline\">Get Personalised Job Recommendations</p>, <p class=\"message\">Registering gives you the benefit to browse &amp; apply variety of jobs based on your preferences</p>, <p> See 19 jobs in Featured Companies</p>, <p class=\"listBody fs12\"><a href=\"http://resume.naukri.com/job-alerts-on-mobile-mail?fftid=naukri_srp\" target=\"_blank\">Let Naukri experts send the best jobs for you on mail and sms within 30 minutes.</a></p>, <p class=\"headline\">Get Personalised Job Recommendations</p>, <p class=\"message\">Registering gives you the benefit to browse &amp; apply variety of jobs based on your preferences</p>]\n",
            "[<p><span class=\"noti_Description fullWidth\"></span><span class=\"status\"></span></p>, <p><span class=\"f16 fw500\" title=\"interior design\">Showing jobs for 'interior design'</span><span class=\"quick-search-bar__view__modify-link\">Modify <span class=\"naukicon naukicon-pencil\"></span></span></p>, <p class=\"grey-text lH20 fleft ml-8 txtLbl\"><span class=\"ellipsis fleft\" title=\"Bangalore/Bengaluru\">Bangalore/Bengaluru</span><span class=\"fleft ml-5\">(813)</span></p>, <p class=\"grey-text lH20 fleft ml-8 txtLbl\"><span class=\"ellipsis fleft\" title=\"Delhi / NCR\">Delhi / NCR</span><span class=\"fleft ml-5\">(680)</span></p>, <p class=\"grey-text lH20 fleft ml-8 txtLbl\"><span class=\"ellipsis fleft\" title=\"Mumbai (All Areas)\">Mumbai (All Areas)</span><span class=\"fleft ml-5\">(509)</span></p>, <p class=\"grey-text lH20 fleft ml-8 txtLbl\"><span class=\"ellipsis fleft\" title=\"Mumbai\">Mumbai</span><span class=\"fleft ml-5\">(423)</span></p>, <p class=\"grey-text lH20 fleft ml-8 txtLbl\"><span class=\"ellipsis fleft\" title=\"0-3 Lakhs\">0-3 Lakhs</span><span class=\"fleft ml-5\">(1055)</span></p>, <p class=\"grey-text lH20 fleft ml-8 txtLbl\"><span class=\"ellipsis fleft\" title=\"3-6 Lakhs\">3-6 Lakhs</span><span class=\"fleft ml-5\">(2122)</span></p>, <p class=\"grey-text lH20 fleft ml-8 txtLbl\"><span class=\"ellipsis fleft\" title=\"6-10 Lakhs\">6-10 Lakhs</span><span class=\"fleft ml-5\">(1722)</span></p>, <p class=\"grey-text lH20 fleft ml-8 txtLbl\"><span class=\"ellipsis fleft\" title=\"10-15 Lakhs\">10-15 Lakhs</span><span class=\"fleft ml-5\">(871)</span></p>, <p class=\"grey-text lH20 fleft ml-8 txtLbl\"><span class=\"ellipsis fleft\" title=\"Premium Engg\">Premium Engg</span><span class=\"fleft ml-5\">(144)</span></p>, <p class=\"grey-text lH20 fleft ml-8 txtLbl\"><span class=\"ellipsis fleft\" title=\"Premium MBA\">Premium MBA</span><span class=\"fleft ml-5\">(37)</span></p>, <p class=\"grey-text lH20 fleft ml-8 txtLbl\"><span class=\"ellipsis fleft\" title=\"International\">International</span><span class=\"fleft ml-5\">(28)</span></p>, <p class=\"grey-text lH20 fleft ml-8 txtLbl\"><span class=\"ellipsis fleft\" title=\"Walk-in\">Walk-in</span><span class=\"fleft ml-5\">(10)</span></p>, <p class=\"grey-text lH20 fleft ml-8 txtLbl\"><span class=\"ellipsis fleft\" title=\"Company Jobs\">Company Jobs</span><span class=\"fleft ml-5\">(3136)</span></p>, <p class=\"grey-text lH20 fleft ml-8 txtLbl\"><span class=\"ellipsis fleft\" title=\"Consultant Jobs\">Consultant Jobs</span><span class=\"fleft ml-5\">(429)</span></p>, <p class=\"grey-text lH20 fleft ml-8 txtLbl\"><span class=\"ellipsis fleft\" title=\"Myntra Designs Pvt. Ltd.\">Myntra Designs Pvt. Ltd.</span><span class=\"fleft ml-5\">(33)</span></p>, <p class=\"grey-text lH20 fleft ml-8 txtLbl\"><span class=\"ellipsis fleft\" title=\"Godrej and Boyce Mfg.\">Godrej and Boyce Mfg.</span><span class=\"fleft ml-5\">(3)</span></p>, <p class=\"grey-text lH20 fleft ml-8 txtLbl\"><span class=\"ellipsis fleft\" title=\"Accenture\">Accenture</span><span class=\"fleft ml-5\">(3)</span></p>, <p class=\"grey-text lH20 fleft ml-8 txtLbl\"><span class=\"ellipsis fleft\" title=\"Shapoorji Pallonji\">Shapoorji Pallonji</span><span class=\"fleft ml-5\">(2)</span></p>, <p class=\"grey-text lH20 fleft ml-8 txtLbl\"><span class=\"ellipsis fleft\" title=\"Post Graduation Not Required\">Post Graduation Not Required</span><span class=\"fleft ml-5\">(1644)</span></p>, <p class=\"grey-text lH20 fleft ml-8 txtLbl\"><span class=\"ellipsis fleft\" title=\"Any Postgraduate\">Any Postgraduate</span><span class=\"fleft ml-5\">(665)</span></p>, <p class=\"grey-text lH20 fleft ml-8 txtLbl\"><span class=\"ellipsis fleft\" title=\"Any Graduate\">Any Graduate</span><span class=\"fleft ml-5\">(2442)</span></p>, <p class=\"grey-text lH20 fleft ml-8 txtLbl\"><span class=\"ellipsis fleft\" title=\"B.Arch\">B.Arch</span><span class=\"fleft ml-5\">(421)</span></p>, <p class=\"grey-text lH20 fleft ml-8 txtLbl\"><span class=\"ellipsis fleft\" title=\"Architecture, Interior Design\">Architecture, Interior Design</span><span class=\"fleft ml-5\">(1481)</span></p>, <p class=\"grey-text lH20 fleft ml-8 txtLbl\"><span class=\"ellipsis fleft\" title=\"Recruitment, Staffing\">Recruitment, Staffing</span><span class=\"fleft ml-5\">(548)</span></p>, <p class=\"grey-text lH20 fleft ml-8 txtLbl\"><span class=\"ellipsis fleft\" title=\"IT-Software, Software Services\">IT-Software, Software Services</span><span class=\"fleft ml-5\">(371)</span></p>, <p class=\"grey-text lH20 fleft ml-8 txtLbl\"><span class=\"ellipsis fleft\" title=\"Construction, Engineering, Cement, Metals\">Construction, Engineering, Cement, Metals</span><span class=\"fleft ml-5\">(256)</span></p>, <p class=\"sort-droop-label\">Relevance<i class=\"naukicon naukicon-arrow-1\"></i></p>, <p class=\"heading\"><span class=\"iconWrapper bgWhite fleft\"><i class=\"naukicon icon-16 naukicon-company\"></i></span><span class=\"fleft mr-5 ml-16 fs16 lh24 fw500\">Filter Jobs by</span><span class=\"fleft fs16 lh24 key fw500\">Top Companies</span></p>, <p class=\"ellipsis fw500 lH20 title\" title=\"Myntra Designs Pvt. Ltd.\">Myntra Designs Pvt. Ltd.</p>, <p class=\"ellipsis grey-text fs12 lh16\">33 Jobs</p>, <p class=\"ellipsis fw500 lH20 title\" title=\"Godrej and Boyce Mfg.\">Godrej and Boyce Mfg.</p>, <p class=\"ellipsis grey-text fs12 lh16\">3 Jobs</p>, <p class=\"ellipsis fw500 lH20 title\" title=\"Accenture\">Accenture</p>, <p class=\"ellipsis grey-text fs12 lh16\">3 Jobs</p>, <p class=\"ellipsis fw500 lH20 title\" title=\"Shapoorji Pallonji\">Shapoorji Pallonji</p>, <p class=\"ellipsis grey-text fs12 lh16\">2 Jobs</p>, <p class=\"heading\"><span class=\"iconWrapper bgWhite fleft\"><i class=\"naukicon icon-16 naukicon-rupee\"></i></span><span class=\"fleft mr-5 ml-16 fs16 lh24 fw500\">Filter Jobs by</span><span class=\"fleft fs16 lh24 key fw500\">Salary</span></p>, <p class=\"ellipsis fw500 lH20 title\" title=\"0-3 Lakhs\">0-3 Lakhs</p>, <p class=\"ellipsis grey-text fs12 lh16\">1055 Jobs</p>, <p class=\"ellipsis fw500 lH20 title\" title=\"3-6 Lakhs\">3-6 Lakhs</p>, <p class=\"ellipsis grey-text fs12 lh16\">2122 Jobs</p>, <p class=\"ellipsis fw500 lH20 title\" title=\"6-10 Lakhs\">6-10 Lakhs</p>, <p class=\"ellipsis grey-text fs12 lh16\">1722 Jobs</p>, <p class=\"ellipsis fw500 lH20 title\" title=\"10-15 Lakhs\">10-15 Lakhs</p>, <p class=\"ellipsis grey-text fs12 lh16\">871 Jobs</p>, <p class=\"heading\"><span class=\"iconWrapper bgWhite fleft\"><i class=\"naukicon icon-16 naukicon-location-pin\"></i></span><span class=\"fleft mr-5 ml-16 fs16 lh24 fw500\">Filter Jobs by</span><span class=\"fleft fs16 lh24 key fw500\">Location</span></p>, <p class=\"ellipsis fw500 lH20 title\" title=\"Bangalore/Bengaluru\">Bangalore/Bengaluru</p>, <p class=\"ellipsis grey-text fs12 lh16\">813 Jobs</p>, <p class=\"ellipsis fw500 lH20 title\" title=\"Delhi / NCR\">Delhi / NCR</p>, <p class=\"ellipsis grey-text fs12 lh16\">680 Jobs</p>, <p class=\"ellipsis fw500 lH20 title\" title=\"Mumbai (All Areas)\">Mumbai (All Areas)</p>, <p class=\"ellipsis grey-text fs12 lh16\">509 Jobs</p>, <p class=\"ellipsis fw500 lH20 title\" title=\"Mumbai\">Mumbai</p>, <p class=\"ellipsis grey-text fs12 lh16\">423 Jobs</p>, <p class=\"fw500 fs16\">Recommended skills for you</p>, <p class=\"title fw500 fs12 lH16\" title=\"Graphic Design\">Graphic Design</p>, <p class=\"title fw500 fs12 lH16\" title=\"Cloud Technologies\">Cloud Technologies</p>, <p class=\"title fw500 fs12 lH16\" title=\"Masters and PG (Engineering)\">Masters and PG (Engineering)</p>, <p class=\"title fw500 fs12 lH16\" title=\"Teaching and Research\">Teaching and Research</p>, <p class=\"headline\">Get Personalised Job Recommendations</p>, <p class=\"message\">Registering gives you the benefit to browse &amp; apply variety of jobs based on your preferences</p>, <p> See 4 jobs in Featured Companies</p>, <p class=\"listBody fs12\"><a href=\"http://resume.naukri.com/resume-display?fftid=naukri_srp\" target=\"_blank\">Become visible to more recruiters with Resume Display service.</a></p>, <p class=\"headline\">Get Personalised Job Recommendations</p>, <p class=\"message\">Registering gives you the benefit to browse &amp; apply variety of jobs based on your preferences</p>]\n"
          ],
          "name": "stdout"
        }
      ]
    },
    {
      "cell_type": "code",
      "metadata": {
        "id": "wFbM0YE8hCJK",
        "outputId": "5e9663e1-99c9-4374-da0d-810d31061d1e"
      },
      "source": [
        "# url = 'https://www.naukri.com/accounting-jobs?xt=catsrch&qf[]=1'\n",
        "# driver = webdriver.Chrome('/Users/mybeast/Downloads/chromedriver')\n",
        "# driver.get(url)\n",
        "\n",
        "# time.sleep(5)\n",
        "\n",
        "# soup = BeautifulSoup(driver.page_source,'html5lib')\n",
        "\n",
        "        # print(soup.prettify())\n",
        "\n",
        "# driver.close()\n",
        "\n",
        "# results = soup.find(class_='list')\n",
        "# # print(results)\n",
        "\n",
        "# job_elems = results.find_all('article',class_='jobTuple bgWhite br4 mb-8')\n",
        "# print(job_elems)\n",
        "\n",
        "for job_elem in job_elems:\n",
        "    desc1 = job_elem.find('div', class_=\"job-description fs12 grey-text\")\n",
        "#     desc1.text\n",
        "# #     desc = desc1.find('i',class_=\"fleft icon-16 lh16 mr-4 naukicon naukicon-desc\")\n",
        "#     print()\n",
        "\n",
        "# tags = job_elems.find('ul',class_=\"tags has-description\")\n",
        "# print(tags)\n",
        "\n",
        "# for job_elem in job_elems:\n",
        "#     func_area = job_elem.find('li',class_='fleft fs12 grey-text lh16 dot')\n",
        "\n",
        "#     if func_area is None:\n",
        "#             continue\n",
        "#     else:\n",
        "#         Experience = func_area.text\n",
        "\n",
        "\n",
        "\n",
        "#     print(area.text)\n",
        "\n",
        "# #             func_area = area.find('span',class_='ellipsis fleft fs12 lh16')\n",
        "# #             if func_area is None:\n",
        "# #                 continue\n",
        "# #             else:\n",
        "# #                 Experience = func_area.text\n",
        "\n",
        "\n",
        "\n",
        "\n",
        "\n",
        "\n",
        "\n",
        "\n",
        "\n",
        "\n",
        "\n",
        "\n",
        "# soup1 = BeautifulSoup(driver.page_source,'html5lib')\n",
        "# driver.close()\n",
        "# soup_results = soup1.find('p',class_='jdRightItemValue')\n",
        "# func_area = soup_results.text\n",
        "# print(func_area)\n",
        "\n",
        "# skill=soup1.find_all(class_='key-skill')\n",
        "# print(skill)\n",
        "# # print(tags)\n",
        "\n",
        "\n",
        "\n",
        "\n",
        "# results = soup1.find(class_='list')\n",
        "# print(results)\n",
        "\n",
        "# tags_results = soup1.find('div',{'_blank':'chip clickable'})\n",
        "# print(tags_results)\n",
        "# # tags=tags_results.find_all('div',{'a':})\n",
        "# # print(tags)\n",
        "# # ssp= tags.find_all('a',class_='chip clickable')\n",
        "# # print(ssp)\n"
      ],
      "execution_count": null,
      "outputs": [
        {
          "output_type": "stream",
          "text": [
            " Roles and Responsibilities We are looking for candidates with Accounts background and e...\n",
            " Roles and ResponsibilitiesInterested candidates can directly walk-in the mentioned venu...\n",
            " Roles and ResponsibilitiesInterested candidates can directly walk-in the mentioned venu...\n",
            " Commerce graduate Competencies required for the position 3 years well rounded experienc...\n",
            " Intially work from homeGraduates only from finance background students only preferredWe...\n",
            " JD is as below :1. Invoices Verification and Processing2. SAP and related payable funct...\n",
            " We are looking for energetic Freshers / Accounts Professional possessing 1 to 4 years r...\n",
            " Post Graduate / Graduate with prior experience (4 -6 years) of working in a shared serv...\n",
            " Roles and Responsibilities Good in accounting concept and process Taking care of day to...\n",
            " Education: UG Graduation in Commerce / CA (Qualified) / CA (Inter) Should possess a sta...\n",
            " Roles and Responsibilities Knowledge of Bank Reconciliation StatementSupport month-end ...\n",
            " Roles and Responsibilities Hi, We are looking for Accounts executiveGood communication ...\n",
            " Roles and Responsibilities Hi, We are looking for Accounts executiveGood communication ...\n",
            " Roles and Responsibilities Hi, We are looking for Accounts executiveGood communication ...\n",
            " Roles and Responsibilities Hi, We are looking for Accounts executiveGood communication ...\n",
            " The candidate should be commerce graduate with minimum 3 years working experience of co...\n",
            " You are flexible working for night shift or early morning shift You are a graduate and ...\n",
            " Bachelors degree in business, marketing, or related fieldAdditional education or experi...\n",
            " Roles and Responsibilities Follow up with hospitals for sharing patient bills in month ...\n",
            " CA Fresher\n"
          ],
          "name": "stdout"
        }
      ]
    },
    {
      "cell_type": "code",
      "metadata": {
        "id": "Qjl1DOlahCJL"
      },
      "source": [],
      "execution_count": null,
      "outputs": []
    },
    {
      "cell_type": "code",
      "metadata": {
        "id": "fL5VpoFLhCJM"
      },
      "source": [],
      "execution_count": null,
      "outputs": []
    },
    {
      "cell_type": "code",
      "metadata": {
        "id": "u2HXaZOLhCJN"
      },
      "source": [
        "df = pd.DataFrame(columns=['Job_Title','Tags_Associated','Function_Area','Company','Experience','Salary','Location','Posting_Date','Scraping_Date'])\n",
        "\n"
      ],
      "execution_count": null,
      "outputs": []
    },
    {
      "cell_type": "code",
      "metadata": {
        "id": "cUaMuzcXhCJO"
      },
      "source": [
        "\n",
        "for page in range(1,3):\n",
        "    for urll in gen_urls[:2]:\n",
        "        url = urll.format(page)\n",
        "        driver = webdriver.Chrome('/Users/mybeast/Downloads/chromedriver')\n",
        "        driver.get(url)\n",
        "\n",
        "        time.sleep(5)\n",
        "\n",
        "        soup = BeautifulSoup(driver.page_source,'html5lib')\n",
        "\n",
        "        # print(soup.prettify())\n",
        "\n",
        "        driver.close()\n",
        "\n",
        "\n",
        "        #function area\n",
        "        func_results = soup.find('p',class_='jdRightItemValue')\n",
        "        if func_results is None:\n",
        "            continue\n",
        "        else:\n",
        "            func_area = func_results.text\n",
        "            print(func_area)\n",
        "\n",
        "\n",
        "        results = soup.find(class_='list')\n",
        "        job_elems = results.find_all('article',class_='jobTuple bgWhite br4 mb-8')\n",
        "\n",
        "\n",
        "\n",
        "        #tags\n",
        "        for job_elem in job_elems:\n",
        "\n",
        "            tags = job_elem.find('li',class_='fleft fs12 grey-text lh16 dot')\n",
        "\n",
        "            if tags is None:\n",
        "                continue\n",
        "            else:\n",
        "                assoc_tags = tags.text\n",
        "                print(assoc_tags)\n",
        "\n",
        "        # Experience\n",
        "            Exp = job_elem.find('li',class_='fleft grey-text br2 placeHolderLi experience')\n",
        "            Exp_span = Exp.find('span',class_='ellipsis fleft fs12 lh16')\n",
        "            if Exp_span is None:\n",
        "                continue\n",
        "            else:\n",
        "                Experience = Exp_span.text\n",
        "        #         print(Experience)\n",
        "\n",
        "        #   Job Title\n",
        "            Job_Title = job_elem.find('a',class_='title fw500 ellipsis')\n",
        "            print(Job_Title.text)\n",
        "\n",
        "\n",
        "# #             URL = job_elem.find('a',class_='title fw500 ellipsis').get('href')\n",
        "# #         #     print(URL.strip())\n",
        "\n",
        "\n",
        "            # Company Name\n",
        "            Company = job_elem.find('a',class_='subTitle ellipsis fleft')\n",
        "            print(Company.text)\n",
        "\n",
        "\n",
        "\n",
        "            #Job description\n",
        "            desc = job_elem.find('div', class_=\"job-description fs12 grey-text\")\n",
        "\n",
        "\n",
        "            #Job Scraped Date\n",
        "            from datetime import date\n",
        "            today = date.today()\n",
        "                    # dd/mm/YY\n",
        "            date_today = today.strftime(\"%d/%m/%Y\")\n",
        "        #     print(date_today)\n",
        "\n",
        "\n",
        "            # Years of experience Required\n",
        "            Exp = job_elem.find('li',class_='fleft grey-text br2 placeHolderLi experience')\n",
        "            Exp_span = Exp.find('span',class_='ellipsis fleft fs12 lh16')\n",
        "            if Exp_span is None:\n",
        "                continue\n",
        "            else:\n",
        "                Experience = Exp_span.text\n",
        "                print(Experience)\n",
        "\n",
        "\n",
        "            # Salary\n",
        "            Sal = job_elem.find('li',class_='fleft grey-text br2 placeHolderLi salary')\n",
        "            Sal_span = Sal.find('span',class_='ellipsis fleft fs12 lh16')\n",
        "            if Sal_span is None:\n",
        "                continue\n",
        "            else:\n",
        "                Salary = Sal_span.text\n",
        "        #         print(Salary)\n",
        "\n",
        "\n",
        "\n",
        "            # Location\n",
        "            Loc = job_elem.find('li',class_='fleft grey-text br2 placeHolderLi location')\n",
        "            Loc_exp = Loc.find('span',class_='ellipsis fleft fs12 lh16')\n",
        "            if Loc_exp is None:\n",
        "                continue\n",
        "            else:\n",
        "                Location = Loc_exp.text\n",
        "        #         print(Location)\n",
        "\n",
        "\n",
        "\n",
        "            #Job Post Date\n",
        "            date = job_elem.find(\"div\",[\"type br2 fleft grey\",\"type br2 fleft green\"])\n",
        "            date_posted = date.find('span',class_='fleft fw500')\n",
        "            if date_posted is None:\n",
        "                continue\n",
        "            else:\n",
        "                Posting_Date = date_posted.text\n",
        "                print(Posting_Date)\n",
        "\n",
        "\n",
        "    #         # Appending data to the DataFrame\n",
        "            df=df.append({'Job_Title':Job_Title.text,'Tags_Associated':assoc_tags,'Function_Area':func_area,'Company':Company.text,'Experience':Experience,'Salary':Salary,'Location':Location,'Posting_Date':Posting_Date,'Scraping_Date':date_today},ignore_index = True)\n"
      ],
      "execution_count": null,
      "outputs": []
    },
    {
      "cell_type": "code",
      "metadata": {
        "id": "45Z73Zx5hCJP"
      },
      "source": [
        "df1 = pd.DataFrame(columns=['Title','Company','Ratings','Reviews','Experience','Salary','Location','Job_Post_History','URL','Scraping_Date'])"
      ],
      "execution_count": null,
      "outputs": []
    },
    {
      "cell_type": "code",
      "metadata": {
        "id": "8Nr0KeJ-hCJQ"
      },
      "source": [
        "for page in range(1,3):\n",
        "    for urll in gen_urls[:2]:\n",
        "        url = urll.format(page)\n",
        "        driver = webdriver.Chrome('/Users/mybeast/Downloads/chromedriver')\n",
        "        driver.get(url)\n",
        "\n",
        "        time.sleep(5)\n",
        "\n",
        "        soup = BeautifulSoup(driver.page_source,'html5lib')\n",
        "\n",
        "        # print(soup.prettify())\n",
        "\n",
        "        driver.close()\n",
        "\n",
        "\n",
        "        #function area\n",
        "        func_results = soup.find('p',class_='jdRightItemValue')\n",
        "        if func_results is None:\n",
        "            continue\n",
        "        else:\n",
        "            func_area = func_results.text\n",
        "            print(func_area)\n",
        "\n",
        "\n",
        "        results = soup.find(class_='list')\n",
        "        job_elems = results.find_all('article',class_='jobTuple bgWhite br4 mb-8')\n",
        "\n",
        "        for job_elem in job_elems:\n",
        "\n",
        "            # URL to apply for the job\n",
        "            URL = job_elem.find('a',class_='title fw500 ellipsis').get('href')\n",
        "        #     print(URL.strip())\n",
        "\n",
        "            # Post Title\n",
        "            Title = job_elem.find('a',class_='title fw500 ellipsis')\n",
        "\n",
        "            # Company Name\n",
        "            Company = job_elem.find('a',class_='subTitle ellipsis fleft')\n",
        "\n",
        "            # Ratings\n",
        "            rating_span = job_elem.find('span',class_='starRating fleft dot')\n",
        "            if rating_span is None:\n",
        "                continue\n",
        "            else:\n",
        "                Ratings = rating_span.text\n",
        "\n",
        "            # Reviews Counts\n",
        "            Review_span = job_elem.find('a',class_='reviewsCount ml-5 fleft blue-text')\n",
        "            if Review_span is None:\n",
        "                continue\n",
        "            else:\n",
        "                Reviews = Review_span.text\n",
        "\n",
        "\n",
        "\n",
        "            #Job Scraped Date\n",
        "            from datetime import date\n",
        "            today = date.today()\n",
        "                    # dd/mm/YY\n",
        "            date_today = today.strftime(\"%d/%m/%Y\")\n",
        "        #     print(date_today)\n",
        "\n",
        "\n",
        "\n",
        "            # Years of experience Required\n",
        "            Exp = job_elem.find('li',class_='fleft grey-text br2 placeHolderLi experience')\n",
        "            Exp_span = Exp.find('span',class_='ellipsis fleft fs12 lh16')\n",
        "            if Exp_span is None:\n",
        "                continue\n",
        "            else:\n",
        "                Experience = Exp_span.text\n",
        "\n",
        "            # Salary offered for the job\n",
        "            Sal = job_elem.find('li',class_='fleft grey-text br2 placeHolderLi salary')\n",
        "            Sal_span = Sal.find('span',class_='ellipsis fleft fs12 lh16')\n",
        "            if Sal_span is None:\n",
        "                continue\n",
        "            else:\n",
        "                Salary = Sal_span.text\n",
        "\n",
        "            # Location for the job post\n",
        "            Loc = job_elem.find('li',class_='fleft grey-text br2 placeHolderLi location')\n",
        "            Loc_exp = Loc.find('span',class_='ellipsis fleft fs12 lh16')\n",
        "            if Loc_exp is None:\n",
        "                continue\n",
        "            else:\n",
        "                Location = Loc_exp.text\n",
        "\n",
        "            # Number of days since job posted\n",
        "            Hist = job_elem.find(\"div\",[\"type br2 fleft grey\",\"type br2 fleft green\"])\n",
        "            Post_Hist = Hist.find('span',class_='fleft fw500')\n",
        "            if Post_Hist is None:\n",
        "                continue\n",
        "            else:\n",
        "                Post_History = Post_Hist.text\n",
        "\n",
        "        #   Appending data to the DataFrame\n",
        "            df1=df1.append({'URL':URL,'Title':Title.text,'Company':Company.text,'Ratings':Ratings,'Reviews':Reviews,'Scraping_Date':date_today,'Experience':Experience,'Salary':Salary,'Location':Location,'Job_Post_History':Post_History},ignore_index = True)\n",
        ""
      ],
      "execution_count": null,
      "outputs": []
    },
    {
      "cell_type": "code",
      "metadata": {
        "id": "HeZ5Izb-hCJR"
      },
      "source": [
        "# for page in range(1,2):\n",
        "#     url = \"https://www.naukri.com/financial-analyst-jobs-in-mumbai-{}?k=financial%20analyst&l=mumbai\".format(page)\n",
        "for page in range(1,2):\n",
        "    for urll in gen_urls[0:2]:\n",
        "        url = urll.format(page)\n",
        "        driver = webdriver.Chrome('/Users/mybeast/Downloads/chromedriver')\n",
        "        driver.get(url)\n",
        "\n",
        "\n",
        "        time.sleep(10)\n",
        "\n",
        "        soup = BeautifulSoup(driver.page_source,'html5lib')\n",
        "\n",
        "        # print(soup.prettify())\n",
        "\n",
        "        driver.close()\n",
        "\n",
        "        results = soup.find(class_='list')\n",
        "        job_elems = results.find_all('article',class_='jobTuple bgWhite br4 mb-8')\n",
        "\n",
        "        for job_elem in job_elems:\n",
        "\n",
        "            # URL to apply for the job\n",
        "            URL = job_elem.find('a',class_='title fw500 ellipsis').get('href')\n",
        "#             print(URL.strip())\n",
        "\n",
        "\n",
        "\n",
        "            tags=soup.find('div',class_='key-skills')\n",
        "            if tags is None:\n",
        "                continue\n",
        "            else:\n",
        "                Tags_Associated = tags.text\n",
        "                print(Tags_Associated)\n",
        "\n",
        "#             area=job_elem.find(class_='jgRightItemValue')\n",
        "#             funct_area = area.text\n",
        "\n",
        "#             from datetime import date\n",
        "#             today = date.today()\n",
        "#             # dd/mm/YY\n",
        "#             date_today = today.strftime(\"%d/%m/%Y\")\n",
        "\n",
        "\n",
        "#             # Post Title\n",
        "#             Title = job_elem.find('a',class_='title fw500 ellipsis')\n",
        "\n",
        "#             # Company Name\n",
        "#             Company = job_elem.find('a',class_='subTitle ellipsis fleft')\n",
        "\n",
        "# #             # Ratings\n",
        "# #             rating_span = job_elem.find('span',class_='starRating fleft dot')\n",
        "# #             if rating_span is None:\n",
        "# #                 continue\n",
        "# #             else:\n",
        "# #                 Ratings = rating_span.text\n",
        "\n",
        "# #             # Reviews Counts\n",
        "# #             Review_span = job_elem.find('a',class_='reviewsCount ml-5 fleft blue-text')\n",
        "# #             if Review_span is None:\n",
        "# #                 continue\n",
        "# #             else:\n",
        "# #                 Reviews = Review_span.text\n",
        "\n",
        "#             # Years of experience Required\n",
        "#             Exp = job_elem.find('li',class_='fleft grey-text br2 placeHolderLi experience')\n",
        "#             Exp_span = Exp.find('span',class_='ellipsis fleft fs12 lh16')\n",
        "#             if Exp_span is None:\n",
        "#                 continue\n",
        "#             else:\n",
        "#                 Experience = Exp_span.text\n",
        "\n",
        "#             # Salary offered for the job\n",
        "#             Sal = job_elem.find('li',class_='fleft grey-text br2 placeHolderLi salary')\n",
        "#             Sal_span = Sal.find('span',class_='ellipsis fleft fs12 lh16')\n",
        "#             if Sal_span is None:\n",
        "#                 continue\n",
        "#             else:\n",
        "#                 Salary = Sal_span.text\n",
        "\n",
        "#             # Location for the job post\n",
        "#             Loc = job_elem.find('li',class_='fleft grey-text br2 placeHolderLi location')\n",
        "#             Loc_exp = Loc.find('span',class_='ellipsis fleft fs12 lh16')\n",
        "#             if Loc_exp is None:\n",
        "#                 continue\n",
        "#             else:\n",
        "#                 Location = Loc_exp.text\n",
        "\n",
        "#             # Number of days since job posted\n",
        "#             Hist = job_elem.find(\"div\",[\"type br2 fleft grey\",\"type br2 fleft green\"])\n",
        "#             Post_Hist = Hist.find('span',class_='fleft fw500')\n",
        "#             if Post_Hist is None:\n",
        "#                 continue\n",
        "#             else:\n",
        "#                 Post_History = Post_Hist.text\n",
        "\n",
        "#         #   Appending data to the DataFrame\n",
        "#             df1=df1.append({'URL':URL,'Job_Title':Title.text,'Company':Company.text,'Tags_Associated':Tags_Associated,'Function_Area':funct_area,'Scraping_Date':date_today,'Experience':Experience,'Salary':Salary,'Location':Location,'Posting_Date':Post_History},ignore_index = True)\n",
        "\n",
        ""
      ],
      "execution_count": null,
      "outputs": []
    },
    {
      "cell_type": "code",
      "metadata": {
        "id": "6satKGA3hCJT"
      },
      "source": [],
      "execution_count": null,
      "outputs": []
    },
    {
      "cell_type": "code",
      "metadata": {
        "id": "jp2ic20OhCJU"
      },
      "source": [],
      "execution_count": null,
      "outputs": []
    },
    {
      "cell_type": "code",
      "metadata": {
        "id": "CBE_RXlNhCJU"
      },
      "source": [],
      "execution_count": null,
      "outputs": []
    }
  ]
}